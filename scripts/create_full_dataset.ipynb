{
 "cells": [
  {
   "cell_type": "markdown",
   "metadata": {},
   "source": [
    "Workflow to combine all dataframes\n",
    "\n"
   ]
  },
  {
   "cell_type": "code",
   "execution_count": 31,
   "metadata": {},
   "outputs": [],
   "source": [
    "import pandas as pd\n",
    "import numpy as np\n",
    "import matplotlib.pyplot as plt\n",
    "import seaborn as sns\n",
    "import geopandas as gpd"
   ]
  },
  {
   "cell_type": "markdown",
   "metadata": {},
   "source": [
    "## Combine burn indices, host species and recovery"
   ]
  },
  {
   "cell_type": "code",
   "execution_count": 2,
   "metadata": {},
   "outputs": [],
   "source": [
    "# read in each independant dataframe\n",
    "\n",
    "# no history \n",
    "no_bi = pd.read_csv(\"../data/outputs/no_history/on_no_history_burn_indices.csv\")\n",
    "no_host = pd.read_csv(\"../data/outputs/no_history/on_no_history_host_species_percentage.csv\")\n",
    "no_recovery = pd.read_csv(\"../data/outputs/no_history/on_no_history_recovery_magnitude.csv\")\n",
    "\n",
    "# history\n",
    "defol_bi = pd.read_csv(\"../data/outputs/on/on_burn_indices.csv\")\n",
    "defol_host = pd.read_csv(\"../data/outputs/on/on_host_species_percentage.csv\")\n",
    "defol_recovery = pd.read_csv(\"../data/outputs/on/on_recovery_magnitude/on_recovery_magnitude.csv\")"
   ]
  },
  {
   "cell_type": "markdown",
   "metadata": {},
   "source": [
    "Filter out all fires in no history that have a year greater than 2012"
   ]
  },
  {
   "cell_type": "code",
   "execution_count": 17,
   "metadata": {},
   "outputs": [],
   "source": [
    "# Remove rows where Fire_Year is greater than 2012\n",
    "# Extract the year from the Fire_ID column and add it as a new column\n",
    "no_bi['year'] = no_bi['Fire_ID'].apply(lambda x: int(x.split('_')[1]))\n",
    "no_recovery['year'] = no_recovery['Fire_ID'].apply(lambda x: int(x.split('_')[1]))\n",
    "\n",
    "# Filter the DataFrame to remove all rows where the year is greater than 2012\n",
    "no_bi = no_bi[no_bi['year'] <= 2012]\n",
    "no_recovery = no_recovery[no_recovery['year'] <= 2012]\n",
    "# Drop the year column\n",
    "no_bi = no_bi.drop(columns=['year'])\n",
    "no_recovery = no_recovery.drop(columns=['year'])\n"
   ]
  },
  {
   "cell_type": "markdown",
   "metadata": {},
   "source": [
    "Check for columns that match between all dataframes"
   ]
  },
  {
   "cell_type": "code",
   "execution_count": 18,
   "metadata": {},
   "outputs": [
    {
     "name": "stdout",
     "output_type": "stream",
     "text": [
      "Matching columns in all CSV files: {'Fire_ID'}\n"
     ]
    }
   ],
   "source": [
    "dataframes = [no_bi, no_host, no_recovery, defol_bi, defol_host, defol_recovery]\n",
    "\n",
    "# Get the set of columns for each dataframe\n",
    "columns_sets = [set(df.columns) for df in dataframes]\n",
    "\n",
    "# Find the intersection of all column sets to get the matching columns\n",
    "matching_columns = set.intersection(*columns_sets)\n",
    "\n",
    "# Print the matching columns\n",
    "print(\"Matching columns in all CSV files:\", matching_columns)"
   ]
  },
  {
   "cell_type": "markdown",
   "metadata": {},
   "source": [
    "Combine the the no history and history dataframes"
   ]
  },
  {
   "cell_type": "code",
   "execution_count": 19,
   "metadata": {},
   "outputs": [],
   "source": [
    "# Combine all defoliation dataframes by 'Fire_ID'\n",
    "combined_defol = pd.concat([defol_bi, defol_host, defol_recovery]).groupby('Fire_ID').sum().reset_index().drop(columns=['Unnamed: 0'])\n",
    "# Add 'history' column to combined_defol_df with value 1\n",
    "combined_defol['history'] = 1\n",
    "# Move 'history' column to the second position in combined_defol_df\n",
    "cols = combined_defol.columns.tolist()\n",
    "cols.insert(1, cols.pop(cols.index('history')))\n",
    "combined_defol = combined_defol[cols]\n",
    "\n",
    "\n",
    "# Combine all non-defoliation dataframes by 'Fire_ID'\n",
    "combined_no = pd.concat([no_bi, no_host, no_recovery]).groupby('Fire_ID').sum().reset_index().drop(columns=['Unnamed: 0'])\n",
    "# Add 'history' column to combined_no_df with value 0\n",
    "combined_no['history'] = 0\n",
    "# Move 'history' column to the second position in combined_no_df\n",
    "cols = combined_no.columns.tolist()\n",
    "cols.insert(1, cols.pop(cols.index('history')))\n",
    "combined_no = combined_no[cols]\n",
    "\n",
    "## convert fire_year in in both dataframes to int64\n",
    "combined_no['Fire_Year'] = combined_no['Fire_Year'].astype('int64')\n",
    "combined_defol['Fire_Year'] = combined_defol['Fire_Year'].astype('int64')\n"
   ]
  },
  {
   "cell_type": "markdown",
   "metadata": {},
   "source": [
    "view dataframes"
   ]
  },
  {
   "cell_type": "code",
   "execution_count": 20,
   "metadata": {},
   "outputs": [
    {
     "data": {
      "text/html": [
       "<div>\n",
       "<style scoped>\n",
       "    .dataframe tbody tr th:only-of-type {\n",
       "        vertical-align: middle;\n",
       "    }\n",
       "\n",
       "    .dataframe tbody tr th {\n",
       "        vertical-align: top;\n",
       "    }\n",
       "\n",
       "    .dataframe thead th {\n",
       "        text-align: right;\n",
       "    }\n",
       "</style>\n",
       "<table border=\"1\" class=\"dataframe\">\n",
       "  <thead>\n",
       "    <tr style=\"text-align: right;\">\n",
       "      <th></th>\n",
       "      <th>Fire_ID</th>\n",
       "      <th>history</th>\n",
       "      <th>rbr</th>\n",
       "      <th>rbr_w_offset</th>\n",
       "      <th>Fire_Year</th>\n",
       "      <th>host_species</th>\n",
       "      <th>total_pixels</th>\n",
       "      <th>host_percentage</th>\n",
       "      <th>Average Recovery</th>\n",
       "    </tr>\n",
       "  </thead>\n",
       "  <tbody>\n",
       "    <tr>\n",
       "      <th>0</th>\n",
       "      <td>COC12_2002_53</td>\n",
       "      <td>0</td>\n",
       "      <td>533.86</td>\n",
       "      <td>307.24</td>\n",
       "      <td>2002</td>\n",
       "      <td>171.0</td>\n",
       "      <td>171.0</td>\n",
       "      <td>100.0</td>\n",
       "      <td>80.84</td>\n",
       "    </tr>\n",
       "    <tr>\n",
       "      <th>1</th>\n",
       "      <td>COC14_2009_1703</td>\n",
       "      <td>0</td>\n",
       "      <td>530.39</td>\n",
       "      <td>328.14</td>\n",
       "      <td>2009</td>\n",
       "      <td>3942.0</td>\n",
       "      <td>3942.0</td>\n",
       "      <td>100.0</td>\n",
       "      <td>86.67</td>\n",
       "    </tr>\n",
       "    <tr>\n",
       "      <th>2</th>\n",
       "      <td>COC15_1987_935</td>\n",
       "      <td>0</td>\n",
       "      <td>619.05</td>\n",
       "      <td>300.35</td>\n",
       "      <td>1987</td>\n",
       "      <td>2759.0</td>\n",
       "      <td>2759.0</td>\n",
       "      <td>100.0</td>\n",
       "      <td>67.41</td>\n",
       "    </tr>\n",
       "    <tr>\n",
       "      <th>3</th>\n",
       "      <td>COC16_1992_1239</td>\n",
       "      <td>0</td>\n",
       "      <td>474.17</td>\n",
       "      <td>274.28</td>\n",
       "      <td>1992</td>\n",
       "      <td>45919.0</td>\n",
       "      <td>45920.0</td>\n",
       "      <td>100.0</td>\n",
       "      <td>90.05</td>\n",
       "    </tr>\n",
       "    <tr>\n",
       "      <th>4</th>\n",
       "      <td>COC16_2009_1720</td>\n",
       "      <td>0</td>\n",
       "      <td>546.34</td>\n",
       "      <td>337.31</td>\n",
       "      <td>2009</td>\n",
       "      <td>647.0</td>\n",
       "      <td>647.0</td>\n",
       "      <td>100.0</td>\n",
       "      <td>87.23</td>\n",
       "    </tr>\n",
       "  </tbody>\n",
       "</table>\n",
       "</div>"
      ],
      "text/plain": [
       "           Fire_ID  history     rbr  rbr_w_offset  Fire_Year  host_species  \\\n",
       "0    COC12_2002_53        0  533.86        307.24       2002         171.0   \n",
       "1  COC14_2009_1703        0  530.39        328.14       2009        3942.0   \n",
       "2   COC15_1987_935        0  619.05        300.35       1987        2759.0   \n",
       "3  COC16_1992_1239        0  474.17        274.28       1992       45919.0   \n",
       "4  COC16_2009_1720        0  546.34        337.31       2009         647.0   \n",
       "\n",
       "   total_pixels  host_percentage  Average Recovery  \n",
       "0         171.0            100.0             80.84  \n",
       "1        3942.0            100.0             86.67  \n",
       "2        2759.0            100.0             67.41  \n",
       "3       45920.0            100.0             90.05  \n",
       "4         647.0            100.0             87.23  "
      ]
     },
     "execution_count": 20,
     "metadata": {},
     "output_type": "execute_result"
    }
   ],
   "source": [
    "combined_no.head()"
   ]
  },
  {
   "cell_type": "markdown",
   "metadata": {},
   "source": [
    "Add column to defol dataframe that shows the max overlap and other overlap statistics"
   ]
  },
  {
   "cell_type": "code",
   "execution_count": 21,
   "metadata": {},
   "outputs": [
    {
     "name": "stdout",
     "output_type": "stream",
     "text": [
      "Index(['Fire_ID', 'Fire_Year', 'Time_Since_Defoliation', 'Cumulative_Years',\n",
      "       'Max_Overlap_Area', 'Max_Overlap_Percent'],\n",
      "      dtype='object')\n",
      "<class 'pandas.core.frame.DataFrame'>\n",
      "RangeIndex: 365 entries, 0 to 364\n",
      "Data columns (total 6 columns):\n",
      " #   Column                  Non-Null Count  Dtype  \n",
      "---  ------                  --------------  -----  \n",
      " 0   Fire_ID                 365 non-null    object \n",
      " 1   Fire_Year               365 non-null    int64  \n",
      " 2   Time_Since_Defoliation  365 non-null    int64  \n",
      " 3   Cumulative_Years        365 non-null    int64  \n",
      " 4   Max_Overlap_Area        365 non-null    float64\n",
      " 5   Max_Overlap_Percent     365 non-null    float64\n",
      "dtypes: float64(2), int64(3), object(1)\n",
      "memory usage: 17.2+ KB\n",
      "None\n",
      "<class 'pandas.core.frame.DataFrame'>\n",
      "RangeIndex: 365 entries, 0 to 364\n",
      "Data columns (total 9 columns):\n",
      " #   Column            Non-Null Count  Dtype  \n",
      "---  ------            --------------  -----  \n",
      " 0   Fire_ID           365 non-null    object \n",
      " 1   history           365 non-null    int64  \n",
      " 2   rbr               365 non-null    float64\n",
      " 3   rbr_w_offset      365 non-null    float64\n",
      " 4   Fire_Year         365 non-null    int64  \n",
      " 5   host_species      365 non-null    float64\n",
      " 6   total_pixels      365 non-null    float64\n",
      " 7   host_percentage   365 non-null    float64\n",
      " 8   Average Recovery  365 non-null    float64\n",
      "dtypes: float64(6), int64(2), object(1)\n",
      "memory usage: 25.8+ KB\n",
      "None\n"
     ]
    }
   ],
   "source": [
    "occurrence = pd.read_csv(\"../data/outputs/on/on_co-occurrence_defoliation_history.csv\")\n",
    "\n",
    "# print occurence columns\n",
    "print(occurrence.columns)\n",
    "\n",
    "print(occurrence.info())\n",
    "print(combined_defol.info())\n",
    "\n",
    "\n",
    "# Merge the combined no history dataframe with occurence based on 'Fire_ID'\n",
    "combined_defol = pd.merge(combined_defol, occurrence, on=['Fire_ID', 'Fire_Year'])"
   ]
  },
  {
   "cell_type": "markdown",
   "metadata": {},
   "source": [
    "inspect dataframe"
   ]
  },
  {
   "cell_type": "code",
   "execution_count": 22,
   "metadata": {},
   "outputs": [
    {
     "data": {
      "text/html": [
       "<div>\n",
       "<style scoped>\n",
       "    .dataframe tbody tr th:only-of-type {\n",
       "        vertical-align: middle;\n",
       "    }\n",
       "\n",
       "    .dataframe tbody tr th {\n",
       "        vertical-align: top;\n",
       "    }\n",
       "\n",
       "    .dataframe thead th {\n",
       "        text-align: right;\n",
       "    }\n",
       "</style>\n",
       "<table border=\"1\" class=\"dataframe\">\n",
       "  <thead>\n",
       "    <tr style=\"text-align: right;\">\n",
       "      <th></th>\n",
       "      <th>Fire_ID</th>\n",
       "      <th>history</th>\n",
       "      <th>rbr</th>\n",
       "      <th>rbr_w_offset</th>\n",
       "      <th>Fire_Year</th>\n",
       "      <th>host_species</th>\n",
       "      <th>total_pixels</th>\n",
       "      <th>host_percentage</th>\n",
       "      <th>Average Recovery</th>\n",
       "      <th>Time_Since_Defoliation</th>\n",
       "      <th>Cumulative_Years</th>\n",
       "      <th>Max_Overlap_Area</th>\n",
       "      <th>Max_Overlap_Percent</th>\n",
       "    </tr>\n",
       "  </thead>\n",
       "  <tbody>\n",
       "    <tr>\n",
       "      <th>0</th>\n",
       "      <td>ATI10_1987_819</td>\n",
       "      <td>1</td>\n",
       "      <td>551.66</td>\n",
       "      <td>447.91</td>\n",
       "      <td>1987</td>\n",
       "      <td>2442.0</td>\n",
       "      <td>2769.0</td>\n",
       "      <td>88.2</td>\n",
       "      <td>85.94</td>\n",
       "      <td>0</td>\n",
       "      <td>7</td>\n",
       "      <td>4.714938e+06</td>\n",
       "      <td>100.0</td>\n",
       "    </tr>\n",
       "    <tr>\n",
       "      <th>1</th>\n",
       "      <td>BAN1_2002_105</td>\n",
       "      <td>1</td>\n",
       "      <td>660.87</td>\n",
       "      <td>250.34</td>\n",
       "      <td>2002</td>\n",
       "      <td>127.0</td>\n",
       "      <td>934.0</td>\n",
       "      <td>13.6</td>\n",
       "      <td>96.17</td>\n",
       "      <td>14</td>\n",
       "      <td>10</td>\n",
       "      <td>2.805804e+06</td>\n",
       "      <td>100.0</td>\n",
       "    </tr>\n",
       "    <tr>\n",
       "      <th>2</th>\n",
       "      <td>CHA10_2010_1589</td>\n",
       "      <td>1</td>\n",
       "      <td>562.55</td>\n",
       "      <td>532.81</td>\n",
       "      <td>2010</td>\n",
       "      <td>279.0</td>\n",
       "      <td>364.0</td>\n",
       "      <td>76.6</td>\n",
       "      <td>104.52</td>\n",
       "      <td>22</td>\n",
       "      <td>16</td>\n",
       "      <td>7.649734e+05</td>\n",
       "      <td>100.0</td>\n",
       "    </tr>\n",
       "    <tr>\n",
       "      <th>3</th>\n",
       "      <td>CHA12_1987_1210</td>\n",
       "      <td>1</td>\n",
       "      <td>577.39</td>\n",
       "      <td>423.14</td>\n",
       "      <td>1987</td>\n",
       "      <td>40836.0</td>\n",
       "      <td>66097.0</td>\n",
       "      <td>61.8</td>\n",
       "      <td>110.75</td>\n",
       "      <td>0</td>\n",
       "      <td>16</td>\n",
       "      <td>1.530347e+08</td>\n",
       "      <td>100.0</td>\n",
       "    </tr>\n",
       "    <tr>\n",
       "      <th>4</th>\n",
       "      <td>CHA12_1991_532</td>\n",
       "      <td>1</td>\n",
       "      <td>616.23</td>\n",
       "      <td>478.34</td>\n",
       "      <td>1991</td>\n",
       "      <td>2261.0</td>\n",
       "      <td>6568.0</td>\n",
       "      <td>34.4</td>\n",
       "      <td>111.11</td>\n",
       "      <td>3</td>\n",
       "      <td>16</td>\n",
       "      <td>1.443114e+07</td>\n",
       "      <td>100.0</td>\n",
       "    </tr>\n",
       "  </tbody>\n",
       "</table>\n",
       "</div>"
      ],
      "text/plain": [
       "           Fire_ID  history     rbr  rbr_w_offset  Fire_Year  host_species  \\\n",
       "0   ATI10_1987_819        1  551.66        447.91       1987        2442.0   \n",
       "1    BAN1_2002_105        1  660.87        250.34       2002         127.0   \n",
       "2  CHA10_2010_1589        1  562.55        532.81       2010         279.0   \n",
       "3  CHA12_1987_1210        1  577.39        423.14       1987       40836.0   \n",
       "4   CHA12_1991_532        1  616.23        478.34       1991        2261.0   \n",
       "\n",
       "   total_pixels  host_percentage  Average Recovery  Time_Since_Defoliation  \\\n",
       "0        2769.0             88.2             85.94                       0   \n",
       "1         934.0             13.6             96.17                      14   \n",
       "2         364.0             76.6            104.52                      22   \n",
       "3       66097.0             61.8            110.75                       0   \n",
       "4        6568.0             34.4            111.11                       3   \n",
       "\n",
       "   Cumulative_Years  Max_Overlap_Area  Max_Overlap_Percent  \n",
       "0                 7      4.714938e+06                100.0  \n",
       "1                10      2.805804e+06                100.0  \n",
       "2                16      7.649734e+05                100.0  \n",
       "3                16      1.530347e+08                100.0  \n",
       "4                16      1.443114e+07                100.0  "
      ]
     },
     "execution_count": 22,
     "metadata": {},
     "output_type": "execute_result"
    }
   ],
   "source": [
    "combined_defol.head()"
   ]
  },
  {
   "cell_type": "markdown",
   "metadata": {},
   "source": [
    "Check to see the smallest value in occurence dataframe columns"
   ]
  },
  {
   "cell_type": "code",
   "execution_count": 23,
   "metadata": {},
   "outputs": [
    {
     "name": "stdout",
     "output_type": "stream",
     "text": [
      "Fire_ID                   ATI10_1987_819\n",
      "Fire_Year                           1986\n",
      "Time_Since_Defoliation                 0\n",
      "Cumulative_Years                       1\n",
      "Max_Overlap_Area            32329.555328\n",
      "Max_Overlap_Percent              5.69277\n",
      "dtype: object\n"
     ]
    }
   ],
   "source": [
    "# smallest value in occurrence dataframe columns\n",
    "print(occurrence.min())"
   ]
  },
  {
   "cell_type": "markdown",
   "metadata": {},
   "source": [
    "Add columns in occurence as 0 columns in combined_no"
   ]
  },
  {
   "cell_type": "code",
   "execution_count": 24,
   "metadata": {},
   "outputs": [
    {
     "data": {
      "text/html": [
       "<div>\n",
       "<style scoped>\n",
       "    .dataframe tbody tr th:only-of-type {\n",
       "        vertical-align: middle;\n",
       "    }\n",
       "\n",
       "    .dataframe tbody tr th {\n",
       "        vertical-align: top;\n",
       "    }\n",
       "\n",
       "    .dataframe thead th {\n",
       "        text-align: right;\n",
       "    }\n",
       "</style>\n",
       "<table border=\"1\" class=\"dataframe\">\n",
       "  <thead>\n",
       "    <tr style=\"text-align: right;\">\n",
       "      <th></th>\n",
       "      <th>Fire_ID</th>\n",
       "      <th>history</th>\n",
       "      <th>rbr</th>\n",
       "      <th>rbr_w_offset</th>\n",
       "      <th>Fire_Year</th>\n",
       "      <th>host_species</th>\n",
       "      <th>total_pixels</th>\n",
       "      <th>host_percentage</th>\n",
       "      <th>Average Recovery</th>\n",
       "    </tr>\n",
       "  </thead>\n",
       "  <tbody>\n",
       "    <tr>\n",
       "      <th>0</th>\n",
       "      <td>COC12_2002_53</td>\n",
       "      <td>0</td>\n",
       "      <td>533.86</td>\n",
       "      <td>307.24</td>\n",
       "      <td>2002</td>\n",
       "      <td>171.0</td>\n",
       "      <td>171.0</td>\n",
       "      <td>100.0</td>\n",
       "      <td>80.84</td>\n",
       "    </tr>\n",
       "    <tr>\n",
       "      <th>1</th>\n",
       "      <td>COC14_2009_1703</td>\n",
       "      <td>0</td>\n",
       "      <td>530.39</td>\n",
       "      <td>328.14</td>\n",
       "      <td>2009</td>\n",
       "      <td>3942.0</td>\n",
       "      <td>3942.0</td>\n",
       "      <td>100.0</td>\n",
       "      <td>86.67</td>\n",
       "    </tr>\n",
       "    <tr>\n",
       "      <th>2</th>\n",
       "      <td>COC15_1987_935</td>\n",
       "      <td>0</td>\n",
       "      <td>619.05</td>\n",
       "      <td>300.35</td>\n",
       "      <td>1987</td>\n",
       "      <td>2759.0</td>\n",
       "      <td>2759.0</td>\n",
       "      <td>100.0</td>\n",
       "      <td>67.41</td>\n",
       "    </tr>\n",
       "    <tr>\n",
       "      <th>3</th>\n",
       "      <td>COC16_1992_1239</td>\n",
       "      <td>0</td>\n",
       "      <td>474.17</td>\n",
       "      <td>274.28</td>\n",
       "      <td>1992</td>\n",
       "      <td>45919.0</td>\n",
       "      <td>45920.0</td>\n",
       "      <td>100.0</td>\n",
       "      <td>90.05</td>\n",
       "    </tr>\n",
       "    <tr>\n",
       "      <th>4</th>\n",
       "      <td>COC16_2009_1720</td>\n",
       "      <td>0</td>\n",
       "      <td>546.34</td>\n",
       "      <td>337.31</td>\n",
       "      <td>2009</td>\n",
       "      <td>647.0</td>\n",
       "      <td>647.0</td>\n",
       "      <td>100.0</td>\n",
       "      <td>87.23</td>\n",
       "    </tr>\n",
       "  </tbody>\n",
       "</table>\n",
       "</div>"
      ],
      "text/plain": [
       "           Fire_ID  history     rbr  rbr_w_offset  Fire_Year  host_species  \\\n",
       "0    COC12_2002_53        0  533.86        307.24       2002         171.0   \n",
       "1  COC14_2009_1703        0  530.39        328.14       2009        3942.0   \n",
       "2   COC15_1987_935        0  619.05        300.35       1987        2759.0   \n",
       "3  COC16_1992_1239        0  474.17        274.28       1992       45919.0   \n",
       "4  COC16_2009_1720        0  546.34        337.31       2009         647.0   \n",
       "\n",
       "   total_pixels  host_percentage  Average Recovery  \n",
       "0         171.0            100.0             80.84  \n",
       "1        3942.0            100.0             86.67  \n",
       "2        2759.0            100.0             67.41  \n",
       "3       45920.0            100.0             90.05  \n",
       "4         647.0            100.0             87.23  "
      ]
     },
     "execution_count": 24,
     "metadata": {},
     "output_type": "execute_result"
    }
   ],
   "source": [
    "combined_no.head()"
   ]
  },
  {
   "cell_type": "code",
   "execution_count": 25,
   "metadata": {},
   "outputs": [],
   "source": [
    "# Get the column names from occurrence excluding 'Fire_ID' and 'Fire_Year'\n",
    "additional_columns = [col for col in occurrence.columns if col not in ['Fire_ID', 'Fire_Year']]\n",
    "\n",
    "# Add these columns to combined_no_df with all values set to 0\n",
    "for col in additional_columns:\n",
    "    combined_no[col] = 0\n"
   ]
  },
  {
   "cell_type": "markdown",
   "metadata": {},
   "source": [
    "Inpect no history"
   ]
  },
  {
   "cell_type": "code",
   "execution_count": 26,
   "metadata": {},
   "outputs": [
    {
     "data": {
      "text/html": [
       "<div>\n",
       "<style scoped>\n",
       "    .dataframe tbody tr th:only-of-type {\n",
       "        vertical-align: middle;\n",
       "    }\n",
       "\n",
       "    .dataframe tbody tr th {\n",
       "        vertical-align: top;\n",
       "    }\n",
       "\n",
       "    .dataframe thead th {\n",
       "        text-align: right;\n",
       "    }\n",
       "</style>\n",
       "<table border=\"1\" class=\"dataframe\">\n",
       "  <thead>\n",
       "    <tr style=\"text-align: right;\">\n",
       "      <th></th>\n",
       "      <th>Fire_ID</th>\n",
       "      <th>history</th>\n",
       "      <th>rbr</th>\n",
       "      <th>rbr_w_offset</th>\n",
       "      <th>Fire_Year</th>\n",
       "      <th>host_species</th>\n",
       "      <th>total_pixels</th>\n",
       "      <th>host_percentage</th>\n",
       "      <th>Average Recovery</th>\n",
       "      <th>Time_Since_Defoliation</th>\n",
       "      <th>Cumulative_Years</th>\n",
       "      <th>Max_Overlap_Area</th>\n",
       "      <th>Max_Overlap_Percent</th>\n",
       "    </tr>\n",
       "  </thead>\n",
       "  <tbody>\n",
       "    <tr>\n",
       "      <th>0</th>\n",
       "      <td>COC12_2002_53</td>\n",
       "      <td>0</td>\n",
       "      <td>533.86</td>\n",
       "      <td>307.24</td>\n",
       "      <td>2002</td>\n",
       "      <td>171.0</td>\n",
       "      <td>171.0</td>\n",
       "      <td>100.0</td>\n",
       "      <td>80.84</td>\n",
       "      <td>0</td>\n",
       "      <td>0</td>\n",
       "      <td>0</td>\n",
       "      <td>0</td>\n",
       "    </tr>\n",
       "    <tr>\n",
       "      <th>1</th>\n",
       "      <td>COC14_2009_1703</td>\n",
       "      <td>0</td>\n",
       "      <td>530.39</td>\n",
       "      <td>328.14</td>\n",
       "      <td>2009</td>\n",
       "      <td>3942.0</td>\n",
       "      <td>3942.0</td>\n",
       "      <td>100.0</td>\n",
       "      <td>86.67</td>\n",
       "      <td>0</td>\n",
       "      <td>0</td>\n",
       "      <td>0</td>\n",
       "      <td>0</td>\n",
       "    </tr>\n",
       "    <tr>\n",
       "      <th>2</th>\n",
       "      <td>COC15_1987_935</td>\n",
       "      <td>0</td>\n",
       "      <td>619.05</td>\n",
       "      <td>300.35</td>\n",
       "      <td>1987</td>\n",
       "      <td>2759.0</td>\n",
       "      <td>2759.0</td>\n",
       "      <td>100.0</td>\n",
       "      <td>67.41</td>\n",
       "      <td>0</td>\n",
       "      <td>0</td>\n",
       "      <td>0</td>\n",
       "      <td>0</td>\n",
       "    </tr>\n",
       "    <tr>\n",
       "      <th>3</th>\n",
       "      <td>COC16_1992_1239</td>\n",
       "      <td>0</td>\n",
       "      <td>474.17</td>\n",
       "      <td>274.28</td>\n",
       "      <td>1992</td>\n",
       "      <td>45919.0</td>\n",
       "      <td>45920.0</td>\n",
       "      <td>100.0</td>\n",
       "      <td>90.05</td>\n",
       "      <td>0</td>\n",
       "      <td>0</td>\n",
       "      <td>0</td>\n",
       "      <td>0</td>\n",
       "    </tr>\n",
       "    <tr>\n",
       "      <th>4</th>\n",
       "      <td>COC16_2009_1720</td>\n",
       "      <td>0</td>\n",
       "      <td>546.34</td>\n",
       "      <td>337.31</td>\n",
       "      <td>2009</td>\n",
       "      <td>647.0</td>\n",
       "      <td>647.0</td>\n",
       "      <td>100.0</td>\n",
       "      <td>87.23</td>\n",
       "      <td>0</td>\n",
       "      <td>0</td>\n",
       "      <td>0</td>\n",
       "      <td>0</td>\n",
       "    </tr>\n",
       "  </tbody>\n",
       "</table>\n",
       "</div>"
      ],
      "text/plain": [
       "           Fire_ID  history     rbr  rbr_w_offset  Fire_Year  host_species  \\\n",
       "0    COC12_2002_53        0  533.86        307.24       2002         171.0   \n",
       "1  COC14_2009_1703        0  530.39        328.14       2009        3942.0   \n",
       "2   COC15_1987_935        0  619.05        300.35       1987        2759.0   \n",
       "3  COC16_1992_1239        0  474.17        274.28       1992       45919.0   \n",
       "4  COC16_2009_1720        0  546.34        337.31       2009         647.0   \n",
       "\n",
       "   total_pixels  host_percentage  Average Recovery  Time_Since_Defoliation  \\\n",
       "0         171.0            100.0             80.84                       0   \n",
       "1        3942.0            100.0             86.67                       0   \n",
       "2        2759.0            100.0             67.41                       0   \n",
       "3       45920.0            100.0             90.05                       0   \n",
       "4         647.0            100.0             87.23                       0   \n",
       "\n",
       "   Cumulative_Years  Max_Overlap_Area  Max_Overlap_Percent  \n",
       "0                 0                 0                    0  \n",
       "1                 0                 0                    0  \n",
       "2                 0                 0                    0  \n",
       "3                 0                 0                    0  \n",
       "4                 0                 0                    0  "
      ]
     },
     "execution_count": 26,
     "metadata": {},
     "output_type": "execute_result"
    }
   ],
   "source": [
    "combined_no.head()"
   ]
  },
  {
   "cell_type": "markdown",
   "metadata": {},
   "source": [
    "Merge both dataframes"
   ]
  },
  {
   "cell_type": "code",
   "execution_count": 27,
   "metadata": {},
   "outputs": [],
   "source": [
    "# Row-bind the two DataFrames\n",
    "combined_df = pd.concat([combined_defol, combined_no], ignore_index=True)\n"
   ]
  },
  {
   "cell_type": "markdown",
   "metadata": {},
   "source": [
    "Inspect df"
   ]
  },
  {
   "cell_type": "code",
   "execution_count": 28,
   "metadata": {},
   "outputs": [
    {
     "data": {
      "text/html": [
       "<div>\n",
       "<style scoped>\n",
       "    .dataframe tbody tr th:only-of-type {\n",
       "        vertical-align: middle;\n",
       "    }\n",
       "\n",
       "    .dataframe tbody tr th {\n",
       "        vertical-align: top;\n",
       "    }\n",
       "\n",
       "    .dataframe thead th {\n",
       "        text-align: right;\n",
       "    }\n",
       "</style>\n",
       "<table border=\"1\" class=\"dataframe\">\n",
       "  <thead>\n",
       "    <tr style=\"text-align: right;\">\n",
       "      <th></th>\n",
       "      <th>Fire_ID</th>\n",
       "      <th>history</th>\n",
       "      <th>rbr</th>\n",
       "      <th>rbr_w_offset</th>\n",
       "      <th>Fire_Year</th>\n",
       "      <th>host_species</th>\n",
       "      <th>total_pixels</th>\n",
       "      <th>host_percentage</th>\n",
       "      <th>Average Recovery</th>\n",
       "      <th>Time_Since_Defoliation</th>\n",
       "      <th>Cumulative_Years</th>\n",
       "      <th>Max_Overlap_Area</th>\n",
       "      <th>Max_Overlap_Percent</th>\n",
       "    </tr>\n",
       "  </thead>\n",
       "  <tbody>\n",
       "    <tr>\n",
       "      <th>0</th>\n",
       "      <td>ATI10_1987_819</td>\n",
       "      <td>1</td>\n",
       "      <td>551.66</td>\n",
       "      <td>447.91</td>\n",
       "      <td>1987</td>\n",
       "      <td>2442.0</td>\n",
       "      <td>2769.0</td>\n",
       "      <td>88.2</td>\n",
       "      <td>85.94</td>\n",
       "      <td>0</td>\n",
       "      <td>7</td>\n",
       "      <td>4.714938e+06</td>\n",
       "      <td>100.0</td>\n",
       "    </tr>\n",
       "    <tr>\n",
       "      <th>1</th>\n",
       "      <td>BAN1_2002_105</td>\n",
       "      <td>1</td>\n",
       "      <td>660.87</td>\n",
       "      <td>250.34</td>\n",
       "      <td>2002</td>\n",
       "      <td>127.0</td>\n",
       "      <td>934.0</td>\n",
       "      <td>13.6</td>\n",
       "      <td>96.17</td>\n",
       "      <td>14</td>\n",
       "      <td>10</td>\n",
       "      <td>2.805804e+06</td>\n",
       "      <td>100.0</td>\n",
       "    </tr>\n",
       "    <tr>\n",
       "      <th>2</th>\n",
       "      <td>CHA10_2010_1589</td>\n",
       "      <td>1</td>\n",
       "      <td>562.55</td>\n",
       "      <td>532.81</td>\n",
       "      <td>2010</td>\n",
       "      <td>279.0</td>\n",
       "      <td>364.0</td>\n",
       "      <td>76.6</td>\n",
       "      <td>104.52</td>\n",
       "      <td>22</td>\n",
       "      <td>16</td>\n",
       "      <td>7.649734e+05</td>\n",
       "      <td>100.0</td>\n",
       "    </tr>\n",
       "    <tr>\n",
       "      <th>3</th>\n",
       "      <td>CHA12_1987_1210</td>\n",
       "      <td>1</td>\n",
       "      <td>577.39</td>\n",
       "      <td>423.14</td>\n",
       "      <td>1987</td>\n",
       "      <td>40836.0</td>\n",
       "      <td>66097.0</td>\n",
       "      <td>61.8</td>\n",
       "      <td>110.75</td>\n",
       "      <td>0</td>\n",
       "      <td>16</td>\n",
       "      <td>1.530347e+08</td>\n",
       "      <td>100.0</td>\n",
       "    </tr>\n",
       "    <tr>\n",
       "      <th>4</th>\n",
       "      <td>CHA12_1991_532</td>\n",
       "      <td>1</td>\n",
       "      <td>616.23</td>\n",
       "      <td>478.34</td>\n",
       "      <td>1991</td>\n",
       "      <td>2261.0</td>\n",
       "      <td>6568.0</td>\n",
       "      <td>34.4</td>\n",
       "      <td>111.11</td>\n",
       "      <td>3</td>\n",
       "      <td>16</td>\n",
       "      <td>1.443114e+07</td>\n",
       "      <td>100.0</td>\n",
       "    </tr>\n",
       "  </tbody>\n",
       "</table>\n",
       "</div>"
      ],
      "text/plain": [
       "           Fire_ID  history     rbr  rbr_w_offset  Fire_Year  host_species  \\\n",
       "0   ATI10_1987_819        1  551.66        447.91       1987        2442.0   \n",
       "1    BAN1_2002_105        1  660.87        250.34       2002         127.0   \n",
       "2  CHA10_2010_1589        1  562.55        532.81       2010         279.0   \n",
       "3  CHA12_1987_1210        1  577.39        423.14       1987       40836.0   \n",
       "4   CHA12_1991_532        1  616.23        478.34       1991        2261.0   \n",
       "\n",
       "   total_pixels  host_percentage  Average Recovery  Time_Since_Defoliation  \\\n",
       "0        2769.0             88.2             85.94                       0   \n",
       "1         934.0             13.6             96.17                      14   \n",
       "2         364.0             76.6            104.52                      22   \n",
       "3       66097.0             61.8            110.75                       0   \n",
       "4        6568.0             34.4            111.11                       3   \n",
       "\n",
       "   Cumulative_Years  Max_Overlap_Area  Max_Overlap_Percent  \n",
       "0                 7      4.714938e+06                100.0  \n",
       "1                10      2.805804e+06                100.0  \n",
       "2                16      7.649734e+05                100.0  \n",
       "3                16      1.530347e+08                100.0  \n",
       "4                16      1.443114e+07                100.0  "
      ]
     },
     "execution_count": 28,
     "metadata": {},
     "output_type": "execute_result"
    }
   ],
   "source": [
    "combined_df.head()\n"
   ]
  },
  {
   "cell_type": "code",
   "execution_count": 29,
   "metadata": {},
   "outputs": [
    {
     "name": "stdout",
     "output_type": "stream",
     "text": [
      "<class 'pandas.core.frame.DataFrame'>\n",
      "RangeIndex: 1304 entries, 0 to 1303\n",
      "Data columns (total 13 columns):\n",
      " #   Column                  Non-Null Count  Dtype  \n",
      "---  ------                  --------------  -----  \n",
      " 0   Fire_ID                 1304 non-null   object \n",
      " 1   history                 1304 non-null   int64  \n",
      " 2   rbr                     1304 non-null   float64\n",
      " 3   rbr_w_offset            1304 non-null   float64\n",
      " 4   Fire_Year               1304 non-null   int64  \n",
      " 5   host_species            1304 non-null   float64\n",
      " 6   total_pixels            1304 non-null   float64\n",
      " 7   host_percentage         1304 non-null   float64\n",
      " 8   Average Recovery        1304 non-null   float64\n",
      " 9   Time_Since_Defoliation  1304 non-null   int64  \n",
      " 10  Cumulative_Years        1304 non-null   int64  \n",
      " 11  Max_Overlap_Area        1304 non-null   float64\n",
      " 12  Max_Overlap_Percent     1304 non-null   float64\n",
      "dtypes: float64(8), int64(4), object(1)\n",
      "memory usage: 132.6+ KB\n"
     ]
    }
   ],
   "source": [
    "combined_df.info()"
   ]
  },
  {
   "cell_type": "markdown",
   "metadata": {},
   "source": [
    "get fire area"
   ]
  },
  {
   "cell_type": "code",
   "execution_count": 30,
   "metadata": {},
   "outputs": [
    {
     "data": {
      "text/html": [
       "<div>\n",
       "<style scoped>\n",
       "    .dataframe tbody tr th:only-of-type {\n",
       "        vertical-align: middle;\n",
       "    }\n",
       "\n",
       "    .dataframe tbody tr th {\n",
       "        vertical-align: top;\n",
       "    }\n",
       "\n",
       "    .dataframe thead th {\n",
       "        text-align: right;\n",
       "    }\n",
       "</style>\n",
       "<table border=\"1\" class=\"dataframe\">\n",
       "  <thead>\n",
       "    <tr style=\"text-align: right;\">\n",
       "      <th></th>\n",
       "      <th>Fire_ID</th>\n",
       "      <th>history</th>\n",
       "      <th>rbr</th>\n",
       "      <th>rbr_w_offset</th>\n",
       "      <th>Fire_Year</th>\n",
       "      <th>host_species</th>\n",
       "      <th>total_pixels</th>\n",
       "      <th>host_percentage</th>\n",
       "      <th>Average Recovery</th>\n",
       "      <th>Time_Since_Defoliation</th>\n",
       "      <th>Cumulative_Years</th>\n",
       "      <th>Max_Overlap_Area</th>\n",
       "      <th>Max_Overlap_Percent</th>\n",
       "      <th>fire_area</th>\n",
       "    </tr>\n",
       "  </thead>\n",
       "  <tbody>\n",
       "    <tr>\n",
       "      <th>0</th>\n",
       "      <td>ATI10_1987_819</td>\n",
       "      <td>1</td>\n",
       "      <td>551.66</td>\n",
       "      <td>447.91</td>\n",
       "      <td>1987</td>\n",
       "      <td>2442.0</td>\n",
       "      <td>2769.0</td>\n",
       "      <td>88.2</td>\n",
       "      <td>85.94</td>\n",
       "      <td>0</td>\n",
       "      <td>7</td>\n",
       "      <td>4.714938e+06</td>\n",
       "      <td>100.0</td>\n",
       "      <td>8.307</td>\n",
       "    </tr>\n",
       "    <tr>\n",
       "      <th>1</th>\n",
       "      <td>BAN1_2002_105</td>\n",
       "      <td>1</td>\n",
       "      <td>660.87</td>\n",
       "      <td>250.34</td>\n",
       "      <td>2002</td>\n",
       "      <td>127.0</td>\n",
       "      <td>934.0</td>\n",
       "      <td>13.6</td>\n",
       "      <td>96.17</td>\n",
       "      <td>14</td>\n",
       "      <td>10</td>\n",
       "      <td>2.805804e+06</td>\n",
       "      <td>100.0</td>\n",
       "      <td>2.802</td>\n",
       "    </tr>\n",
       "    <tr>\n",
       "      <th>2</th>\n",
       "      <td>CHA10_2010_1589</td>\n",
       "      <td>1</td>\n",
       "      <td>562.55</td>\n",
       "      <td>532.81</td>\n",
       "      <td>2010</td>\n",
       "      <td>279.0</td>\n",
       "      <td>364.0</td>\n",
       "      <td>76.6</td>\n",
       "      <td>104.52</td>\n",
       "      <td>22</td>\n",
       "      <td>16</td>\n",
       "      <td>7.649734e+05</td>\n",
       "      <td>100.0</td>\n",
       "      <td>1.092</td>\n",
       "    </tr>\n",
       "    <tr>\n",
       "      <th>3</th>\n",
       "      <td>CHA12_1987_1210</td>\n",
       "      <td>1</td>\n",
       "      <td>577.39</td>\n",
       "      <td>423.14</td>\n",
       "      <td>1987</td>\n",
       "      <td>40836.0</td>\n",
       "      <td>66097.0</td>\n",
       "      <td>61.8</td>\n",
       "      <td>110.75</td>\n",
       "      <td>0</td>\n",
       "      <td>16</td>\n",
       "      <td>1.530347e+08</td>\n",
       "      <td>100.0</td>\n",
       "      <td>198.291</td>\n",
       "    </tr>\n",
       "    <tr>\n",
       "      <th>4</th>\n",
       "      <td>CHA12_1991_532</td>\n",
       "      <td>1</td>\n",
       "      <td>616.23</td>\n",
       "      <td>478.34</td>\n",
       "      <td>1991</td>\n",
       "      <td>2261.0</td>\n",
       "      <td>6568.0</td>\n",
       "      <td>34.4</td>\n",
       "      <td>111.11</td>\n",
       "      <td>3</td>\n",
       "      <td>16</td>\n",
       "      <td>1.443114e+07</td>\n",
       "      <td>100.0</td>\n",
       "      <td>19.704</td>\n",
       "    </tr>\n",
       "  </tbody>\n",
       "</table>\n",
       "</div>"
      ],
      "text/plain": [
       "           Fire_ID  history     rbr  rbr_w_offset  Fire_Year  host_species  \\\n",
       "0   ATI10_1987_819        1  551.66        447.91       1987        2442.0   \n",
       "1    BAN1_2002_105        1  660.87        250.34       2002         127.0   \n",
       "2  CHA10_2010_1589        1  562.55        532.81       2010         279.0   \n",
       "3  CHA12_1987_1210        1  577.39        423.14       1987       40836.0   \n",
       "4   CHA12_1991_532        1  616.23        478.34       1991        2261.0   \n",
       "\n",
       "   total_pixels  host_percentage  Average Recovery  Time_Since_Defoliation  \\\n",
       "0        2769.0             88.2             85.94                       0   \n",
       "1         934.0             13.6             96.17                      14   \n",
       "2         364.0             76.6            104.52                      22   \n",
       "3       66097.0             61.8            110.75                       0   \n",
       "4        6568.0             34.4            111.11                       3   \n",
       "\n",
       "   Cumulative_Years  Max_Overlap_Area  Max_Overlap_Percent  fire_area  \n",
       "0                 7      4.714938e+06                100.0      8.307  \n",
       "1                10      2.805804e+06                100.0      2.802  \n",
       "2                16      7.649734e+05                100.0      1.092  \n",
       "3                16      1.530347e+08                100.0    198.291  \n",
       "4                16      1.443114e+07                100.0     19.704  "
      ]
     },
     "execution_count": 30,
     "metadata": {},
     "output_type": "execute_result"
    }
   ],
   "source": [
    "# Define the function to calculate area in hectares\n",
    "def calculate_area_hectares(total_pixels, pixel_size_sqm=30):\n",
    "    total_area_sqm = total_pixels * pixel_size_sqm\n",
    "    total_area_hectares = total_area_sqm / 10000\n",
    "    return total_area_hectares\n",
    "\n",
    "\n",
    "# Apply the function to the total_pixels column to get the fire_area column\n",
    "combined_df['fire_area'] = combined_df['total_pixels'].apply(calculate_area_hectares)\n",
    "\n",
    "# Print the resulting DataFrame\n",
    "combined_df.head()"
   ]
  },
  {
   "cell_type": "markdown",
   "metadata": {},
   "source": [
    "Save dataframe"
   ]
  },
  {
   "cell_type": "code",
   "execution_count": 31,
   "metadata": {},
   "outputs": [],
   "source": [
    "# Write the combined DataFrame to a CSV file\n",
    "combined_df.to_csv(\"../data/outputs/on/on_defoliation_history.csv\", index=False)"
   ]
  },
  {
   "cell_type": "markdown",
   "metadata": {},
   "source": [
    "## Investigate weather variables"
   ]
  },
  {
   "cell_type": "markdown",
   "metadata": {},
   "source": [
    "Create a list of fire IDs from the complete history dataset"
   ]
  },
  {
   "cell_type": "code",
   "execution_count": 17,
   "metadata": {},
   "outputs": [
    {
     "name": "stdout",
     "output_type": "stream",
     "text": [
      "['ATI10_1987_819', 'BAN1_2002_105', 'CHA10_2010_1589', 'CHA12_1987_1210', 'CHA12_1991_532', 'CHA13_1998_1022', 'CHA18_2005_1513', 'CHA19_2000_60', 'CHA1_1999_1297', 'CHA29_1995_249', 'CHA32_1987_1474', 'CHA52_1991_1021', 'CHA7_1992_829', 'CHA8_2012_1924', 'CHA9_1987_133', 'CHA9_1990_922', 'COC10_2005_1519', 'COC10_2012_1911', 'COC11_1986_1332', 'COC12_1992_485', 'COC14_1992_125', 'COC14_2006_1606', 'COC15_2001_48', 'COC16_1997_1038', 'COC19_1997_521', 'COC23_1995_1273', 'COC24_1995_496', 'COC34_1997_475', 'COC34_2006_1686', 'COC37_1995_372', 'COC38_1995_629', 'COC3_1988_79', 'COC8_2006_1649', 'COC9_2002_100', 'COC9_2006_1654', 'DRY10_2002_75', 'DRY10_2007_1659', 'DRY12_1996_1145', 'DRY14_2000_30', 'DRY18_1996_839', 'DRY23_1996_942', 'DRY24_1996_1466', 'DRY26_1995_1350', 'DRY27_1996_1121', 'DRY29_1995_275', 'DRY31_1996_1105', 'DRY32_1995_703', 'DRY36_1996_957', 'DRY57_2003_1410', 'DRY58_2003_1441', 'DRY5_2003_1418', 'DRY79_2006_1692', 'DRY8_2007_1565', 'ESP16_1988_225', 'ESP17_1988_869', 'FOR11_1996_134', 'FOR137_1995_1337', 'FOR140_1995_828', 'FOR141_1995_743', 'FOR14_2003_1484', 'FOR14_2005_1514', 'FOR165_2006_1620', 'FOR173_2006_1618', 'FOR179_2006_1623', 'FOR17_2011_1836', 'FOR18_2005_1520', 'FOR1_2000_34', 'FOR1_2001_9', 'FOR1_2010_1769', 'FOR24_2005_1516', 'FOR33_1987_639', 'FOR38_1995_439', 'FOR42_1995_752', 'FOR42_2011_1834', 'FOR52_2006_1617', 'FOR54_2006_1619', 'FOR57_2006_1621', 'FOR59_2012_1935', 'FOR61_1995_328', 'FOR61_2006_1624', 'FOR63_2006_1622', 'FOR8_1987_835', 'FOR9_1996_467', 'FOR9_1998_1300', 'GER40_1991_716', 'GER92_1991_1201', 'GOG13_1988_1375', 'GOG1_1987_468', 'GOG4_1991_1464', 'HEA11_1987_1204', 'HEA11_2000_58', 'HEA14_1996_1039', 'HEA16_1992_418', 'HEA1_2011_1833', 'HEA20_2010_1770', 'HEA21_1991_512', 'HEA21_2000_31', 'HEA27_1996_270', 'HEA31_2010_1768', 'HEA3_1999_1069', 'HEA48_1995_222', 'HEA54_1995_1000', 'HEA63_2005_1511', 'HEA6_1987_479', 'HEA9_2012_1920', 'IGN41_1989_211', 'IGN9_1987_492', 'KAP10_1986_1340', 'KAP12_1987_1308', 'KEM2_2000_62', 'KEN100_1995_159', 'KEN103_2012_1853', 'KEN105_1995_1173', 'KEN110_2003_1423', 'KEN115_1995_1049', 'KEN121_1995_233', 'KEN14_1988_448', 'KEN27_2011_1832', 'KEN36_2012_1917', 'KEN41_2007_1566', 'KEN91_2011_1748', 'KLK11_2012_1907', 'KLK13_2012_1856', 'KLK2_2001_10', 'KLK5_2003_1495', 'KLK5_2010_1772', 'KLK8_2012_1841', 'KLK9_2003_1496', 'KLK9_2004_1508', 'NIP103_1998_283', 'NIP108_2006_1651', 'NIP10_1999_1139', 'NIP12_1999_502', 'NIP151_2006_1592', 'NIP154_1995_756', 'NIP16_2002_77', 'NIP17_2003_1485', 'NIP1_2002_101', 'NIP20_2005_1521', 'NIP226_2006_1644', 'NIP230_1998_821', 'NIP238_2006_1571', 'NIP23_1988_981', 'NIP240_1998_123', 'NIP241_1998_609', 'NIP245_2006_1605', 'NIP24_1998_1285', 'NIP24_2001_7', 'NIP252_1998_994', 'NIP257_2006_1604', 'NIP262_2006_1567', 'NIP264_2006_1603', 'NIP267_2006_1641', 'NIP26_2007_1660', 'NIP276_2006_1655', 'NIP291_2006_1611', 'NIP296_2006_1609', 'NIP29_1997_412', 'NIP2_2002_99', 'NIP322_2006_1573', 'NIP323_2006_1607', 'NIP327_2006_1596', 'NIP328_2006_1608', 'NIP334_2006_1616', 'NIP338_2006_1664', 'NIP341_2006_1614', 'NIP344_2006_1643', 'NIP34_1998_714', 'NIP35_2010_1767', 'NIP365_2006_1574', 'NIP37_1998_1064', 'NIP380_2006_1663', 'NIP38_1998_1026', 'NIP391_2006_1575', 'NIP39_1996_236', 'NIP400_2006_1613', 'NIP402_2006_1615', 'NIP404_2006_1612', 'NIP406_2006_1569', 'NIP409_2006_1570', 'NIP410_2006_1602', 'NIP411_2006_1657', 'NIP413_2006_1656', 'NIP414_2006_1648', 'NIP415_2006_1645', 'NIP426_2006_1572', 'NIP428_2006_1646', 'NIP42_2000_32', 'NIP430_2006_1637', 'NIP440_2006_1601', 'NIP44_1996_1211', 'NIP46_1996_726', 'NIP49_1996_366', 'NIP49_1998_760', 'NIP51_1996_620', 'NIP52_2005_1522', 'NIP56_1998_832', 'NIP58_1998_1031', 'NIP58_2003_1421', 'NIP60_1996_227', 'NIP61_1996_318', 'NIP63_1996_1056', 'NIP64_1996_782', 'NIP65_1996_1146', 'NIP66_2011_1835', 'NIP75_2002_76', 'NIP77_2001_49', 'NIP79_1996_1296', 'NIP80_1996_310', 'NIP80_2005_1523', 'NIP81_2006_1684', 'NIP85_2002_103', 'NIP86_1996_856', 'NIP94_2011_1747', 'NIP97_1999_737', 'NIP9_1992_1122', 'NOR11_1999_1390', 'NOR17_1999_728', 'NOR3_1998_373', 'NOR70_1988_932', 'PAR13_1999_571', 'PEM25_2012_1933', 'PEM2_2000_35', 'PEM2_2007_1588', 'PEM3_2001_11', 'PEM4_1999_1091', 'PEM74_1990_765', 'PEM8_1999_1450', 'PEM9_2002_104', 'RED1_2001_6', 'RED230_1988_277', 'RED25_2010_1756', 'RED32_2002_98', 'RED39_2012_1901', 'RED58_1999_677', 'RED62_2002_93', 'RED65_2003_1440', 'RED81_1995_964', 'RED84_2011_1823', 'SAU13_2007_1587', 'SAU20_2011_1837', 'SAU4_1998_335', 'SAU4_1999_329', 'SAU6_1999_1348', 'SAU78_2006_1560', 'SAU7_2003_1436', 'SAU8_2000_61', 'SLK105_2012_1931', 'SLK11_2007_1658', 'SLK1_2012_1847', 'SLK48_2003_1476', 'SLK61_2011_1819', 'SLK64_2011_1820', 'SLK65_1995_307', 'SLK86_1996_1174', 'SUD121_1999_1289', 'SUD164_1991_676', 'SUD165_1991_949', 'SUD1_2004_1532', 'SUD1_2005_1524', 'SUD1_2009_1728', 'SUD23_1992_715', 'SUD46_2007_1586', 'SUD62_1988_1247', 'SUD63_1988_763', 'SUD8_2006_1561', 'TEM5_1992_1319', 'TER6_1988_220', 'TER7_1986_83', 'THU103_1988_802', 'THU107_1988_1115', 'THU109_1988_747', 'THU113_2006_1568', 'THU124_1998_298', 'THU130_1991_1263', 'THU132_1995_944', 'THU133_2006_1688', 'THU136_1995_414', 'THU139_2006_1691', 'THU13_1999_514', 'THU142_2006_1634', 'THU143_2006_1642', 'THU144_2006_1638', 'THU14_1995_308', 'THU151_2006_1650', 'THU154_2006_1687', 'THU163_2006_1640', 'THU167_2006_1653', 'THU16_2002_102', 'THU176_2006_1652', 'THU184_2006_1647', 'THU185_2006_1633', 'THU187_2006_1598', 'THU189_2006_1610', 'THU190_2006_1636', 'THU192_2006_1689', 'THU21_1998_137', 'THU232_2006_1690', 'THU234_2006_1635', 'THU246_2006_1597', 'THU249_2006_1639', 'THU28_2003_1502', 'THU31_2005_1510', 'THU36_2007_1584', 'THU37_2007_1662', 'THU38_1996_675', 'THU39_2007_1661', 'THU41_1996_553', 'THU45_1996_834', 'THU53_1988_1053', 'THU53_1995_1395', 'THU53_1996_593', 'THU57_2005_1526', 'THU58_1996_127', 'THU67_1996_1222', 'THU67_2005_1528', 'THU71_1987_651', 'THU71_1996_461', 'THU71_1998_684', 'THU73_1996_661', 'THU74_1996_1129', 'THU76_1996_311', 'THU77_1996_1187', 'THU79_1996_742', 'THU80_1996_348', 'THU82_1987_885', 'THU84_1996_147', 'THU90_1996_1274', 'TIM12_1997_1531', 'TIM13_2010_1776', 'TIM19_2005_1512', 'TIM24_1997_121', 'TIM27_2012_1921', 'TIM2_1997_488', 'TIM34_2011_1750', 'TIM3_2007_1585', 'TIM41_1998_641', 'TIM47_2012_1903', 'TIM56_2005_1529', 'TIM5_1988_390', 'TIM5_1996_563', 'TIM5_2005_1517', 'TIM6_1998_1082', 'TIM7_2005_1515', 'TIM7_2010_1774', 'TIM7_2012_1898', 'TIM9_2010_1773', 'TIM9_2012_1852', 'WAW12_2011_1749', 'WAW13_2003_1409', 'WAW17_2012_1934', 'WAW18_2010_1775', 'WAW1_1998_1449', 'WAW21_2003_1406', 'WAW22_1998_683', 'WAW23_2003_1503', 'WAW31_1995_650', 'WAW4_2012_1916', 'WAW58_1998_1354', 'WAW5_1999_797', 'WAW5_2012_1904', 'WAW69_1995_946', 'WAW7_1998_696', 'WAW86_1995_724', 'WAW87_1995_1025', 'COC12_2002_53', 'COC14_2009_1703', 'COC15_1987_935', 'COC16_1992_1239', 'COC16_2009_1720', 'COC17_1999_738', 'COC18_1992_598', 'COC19_2002_74', 'COC22_1999_954', 'COC25_1996_158', 'COC25_2011_1827', 'COC28_1996_322', 'COC30_1997_1034', 'COC33_1995_903', 'COC36_1995_847', 'COC37_2005_1533', 'COC38_1998_546', 'COC53_1996_544', 'COC57_1998_153', 'DRY26_1996_332', 'FOR10_1991_317', 'FOR11_2003_1420', 'FOR12_1987_1202', 'FOR13_1987_316', 'FOR1_1993_470', 'FOR1_2000_59', 'FOR1_2004_1507', 'FOR2_2001_8', 'FOR30_1989_793', 'FOR35_1987_812', 'FOR3_2010_1771', 'FOR4_1988_1218', 'FOR5_1998_1334', 'FOR5_1999_1387', 'FOR5_2000_33', 'FOR6_1987_1013', 'FOR6_1998_258', 'FOR78_1987_279', 'FOR79_1987_542', 'FOR83_1990_969', 'GER11_1986_1463', 'GER11_1991_607', 'GER120_1989_1192', 'GER123_1989_875', 'GER128_1989_1320', 'GER129_1989_489', 'GER12_1986_801', 'GER136_1989_295', 'GER13_1986_576', 'GER13_1992_1293', 'GER14_1986_340', 'GER14_1992_194', 'GER15_1992_1284', 'GER17_1992_1355', 'GER18_1989_1445', 'GER18_1992_1094', 'GER19_1989_643', 'GER19_1993_575', 'GER20_1987_131', 'GER20_1990_740', 'GER21_1987_831', 'GER21_1988_873', 'GER21_1992_720', 'GER25_1987_1050', 'GER25_1991_791', 'GER25_1992_587', 'GER26_1988_1059', 'GER26_1991_240', 'GER27_1988_1382', 'GER27_1989_138', 'GER28_1988_1072', 'GER28_1990_376', 'GER29_1986_385', 'GER29_1990_999', 'GER30_1987_1116', 'GER30_1989_511', 'GER30_1990_245', 'GER31_1987_120', 'GER32_1989_272', 'GER33_1990_1205', 'GER34_1989_1089', 'GER35_1989_1301', 'GER35_1990_1004', 'GER35_1991_1329', 'GER36_1989_1040', 'GER36_1991_1165', 'GER36_1992_868', 'GER37_1990_321', 'GER38_1989_732', 'GER38_1990_810', 'GER39_1990_151', 'GER39_1992_989', 'GER40_1990_938', 'GER41_1988_1448', 'GER44_1990_229', 'GER45_1990_410', 'GER45_1991_396', 'GER46_1989_417', 'GER46_1990_513', 'GER48_1990_680', 'GER50_1989_314', 'GER50_1991_1134', 'GER51_1989_968', 'GER51_1990_1331', 'GER52_1989_202', 'GER54_1989_953', 'GER55_1989_967', 'GER57_1990_631', 'GER59_1989_1325', 'GER60_1989_734', 'GER60_1990_792', 'GER61_1989_608', 'GER62_1989_1257', 'GER63_1989_273', 'GER63_1991_897', 'GER64_1989_767', 'GER65_1989_708', 'GER70_1991_449', 'GER71_1989_1096', 'GER72_1989_386', 'GER75_1990_379', 'GER76_1989_685', 'GER77_1989_945', 'GER7_1989_978', 'GER80_1989_455', 'GER83_1990_798', 'GER84_1991_1249', 'GER85_1989_1209', 'GER85_1990_135', 'GER93_1989_110', 'GER94_1989_228', 'GER96_1989_253', 'GER96_1991_1309', 'GER98_1991_288', 'GER99_1989_786', 'KEM1_2000_36', 'KEN186_1988_1159', 'MOO15_1991_836', 'NIP101_2002_176', 'NIP104_1999_908', 'NIP104_2005_1536', 'NIP104_2012_1761', 'NIP109_1996_231', 'NIP10_2009_1717', 'NIP110_1996_1377', 'NIP110_1998_914', 'NIP112_2005_1518', 'NIP118_1998_1372', 'NIP120_1998_665', 'NIP121_1998_602', 'NIP122_1998_654', 'NIP123_1998_528', 'NIP124_1998_996', 'NIP125_1998_256', 'NIP126_1998_844', 'NIP127_1998_540', 'NIP12_2009_1718', 'NIP136_1995_1299', 'NIP138_1998_82', 'NIP13_1996_1030', 'NIP13_2009_1713', 'NIP144_1998_721', 'NIP146_1998_126', 'NIP14_1996_1032', 'NIP14_2009_1714', 'NIP156_1998_1276', 'NIP15_1989_384', 'NIP163_1998_625', 'NIP164_1998_1080', 'NIP165_1998_274', 'NIP189_2006_1580', 'NIP18_1995_145', 'NIP18_1999_357', 'NIP19_1996_458', 'NIP19_2000_22', 'NIP19_2009_1711', 'NIP201_1998_894', 'NIP20_2006_1582', 'NIP20_2009_1710', 'NIP21_2009_1709', 'NIP22_1995_543', 'NIP22_1996_474', 'NIP22_2001_46', 'NIP23_2009_1708', 'NIP24_2000_23', 'NIP24_2012_1838', 'NIP25_2000_26', 'NIP26_1994_695', 'NIP26_2000_21', 'NIP26_2001_47', 'NIP27_2010_1734', 'NIP30_1999_353', 'NIP32_1999_1075', 'NIP32_2002_188', 'NIP32_2012_1929', 'NIP33_1995_917', 'NIP34_2011_1696', 'NIP35_1995_1305', 'NIP35_2001_5', 'NIP37_1996_565', 'NIP38_2002_97', 'NIP39_2001_2', 'NIP40_1999_860', 'NIP40_2001_4', 'NIP40_2007_1564', 'NIP40_2011_1791', 'NIP41_2010_1731', 'NIP42_2003_1430', 'NIP43_1995_1286', 'NIP43_1996_910', 'NIP43_1999_421', 'NIP44_1994_346', 'NIP44_1995_1225', 'NIP44_2000_29', 'NIP45_2010_1752', 'NIP47_2002_182', 'NIP47_2011_1698', 'NIP48_1996_1078', 'NIP48_2002_180', 'NIP49_1994_1228', 'NIP49_2012_1763', 'NIP50_1995_1136', 'NIP50_1996_355', 'NIP51_2002_94', 'NIP52_1999_664', 'NIP52_2001_3', 'NIP53_2001_1', 'NIP54_1995_915', 'NIP54_2001_40', 'NIP54_2002_173', 'NIP54_2011_1735', 'NIP55_2001_66', 'NIP55_2002_164', 'NIP55_2011_1811', 'NIP56_2002_174', 'NIP58_1996_457', 'NIP58_2007_1563', 'NIP59_1994_1114', 'NIP59_1996_1179', 'NIP59_2003_1555', 'NIP59_2012_1762', 'NIP60_2012_1848', 'NIP61_1994_342', 'NIP61_1999_689', 'NIP61_2012_1930', 'NIP62_1994_758', 'NIP62_1996_627', 'NIP62_1999_361', 'NIP62_2012_1912', 'NIP63_2012_1764', 'NIP64_1995_262', 'NIP66_1995_1281', 'NIP66_1996_970', 'NIP68_1996_1358', 'NIP68_2003_1407', 'NIP70_2006_1583', 'NIP72_2001_68', 'NIP72_2003_1483', 'NIP73_2001_41', 'NIP74_2001_70', 'NIP75_1994_1469', 'NIP75_1995_140', 'NIP76_1996_1383', 'NIP79_2002_189', 'NIP79_2003_1558', 'NIP81_1996_114', 'NIP81_2002_96', 'NIP81_2003_1437', 'NIP82_1995_463', 'NIP82_1996_776', 'NIP83_1996_805', 'NIP83_2002_88', 'NIP8_1992_1093', 'NIP92_2003_1402', 'NIP95_2003_1500', 'NIP99_1999_508', 'PET1_2001_50', 'PET5_1998_1317', 'RED100_2011_1783', 'RED101_2011_1802', 'RED103_2011_1812', 'RED103_2012_1757', 'RED106_2011_1803', 'RED107_2011_1779', 'RED10_2009_1716', 'RED111_1989_1312', 'RED111_2011_1742', 'RED112_1989_201', 'RED112_2011_1744', 'RED113_2006_1629', 'RED113_2011_1743', 'RED114_2011_1778', 'RED117_1989_320', 'RED118_2011_1780', 'RED11_1986_1291', 'RED11_2007_1562', 'RED120_1988_1272', 'RED120_2011_1793', 'RED121_2011_1722', 'RED122_2011_1794', 'RED123_2011_1790', 'RED124_2011_1958', 'RED129_1995_524', 'RED12_2000_25', 'RED13_1990_645', 'RED13_1996_1388', 'RED146_2006_1628', 'RED14_1986_1055', 'RED14_1990_966', 'RED14_1996_764', 'RED14_2000_57', 'RED14_2006_1594', 'RED15_1990_867', 'RED15_1991_1027', 'RED15_2006_1595', 'RED163_2006_1625', 'RED164_2006_1630', 'RED16_1990_796', 'RED16_2006_1679', 'RED175_2006_1577', 'RED176_2006_1632', 'RED177_2006_1579', 'RED17_1996_652', 'RED182_2006_1626', 'RED183_2006_1627', 'RED184_2006_1678', 'RED186_2006_1677', 'RED188_2006_1676', 'RED18_1996_559', 'RED192_2006_1680', 'RED193_2006_1682', 'RED195_2006_1631', 'RED19_1988_341', 'RED19_1995_1020', 'RED19_1996_198', 'RED19_1999_219', 'RED1_1989_955', 'RED1_2002_15', 'RED1_2010_1754', 'RED208_1988_862', 'RED20_1990_1117', 'RED20_1995_536', 'RED20_1996_431', 'RED213_1988_465', 'RED214_1988_982', 'RED219_1988_1425', 'RED21_1987_1151', 'RED21_1990_632', 'RED21_1995_1324', 'RED21_1996_1454', 'RED21_2002_170', 'RED221_1988_1170', 'RED22_1987_1346', 'RED22_1991_263', 'RED22_1993_309', 'RED22_1995_901', 'RED22_1998_1213', 'RED22_2011_1797', 'RED231_1988_1384', 'RED232_1988_941', 'RED233_1988_594', 'RED235_1988_849', 'RED238_1988_550', 'RED23_1996_1002', 'RED23_2002_168', 'RED23_2011_1795', 'RED24_1986_950', 'RED24_1995_1019', 'RED24_1996_713', 'RED24_2011_1796', 'RED26_1998_1443', 'RED26_1999_794', 'RED26_2010_1755', 'RED26_2011_1806', 'RED27_1988_1051', 'RED27_1989_762', 'RED27_1995_1226', 'RED27_1996_889', 'RED27_2002_191', 'RED27_2011_1701', 'RED280_1988_517', 'RED284_1988_1119', 'RED289_1988_1156', 'RED28_1987_634', 'RED28_1989_630', 'RED28_1996_846', 'RED28_2012_1849', 'RED29_1989_827', 'RED29_1993_406', 'RED29_1995_484', 'RED29_1996_1235', 'RED29_2011_1809', 'RED2_1989_681', 'RED309_1988_753', 'RED30_1989_199', 'RED30_1996_824', 'RED31_1989_990', 'RED31_1990_251', 'RED31_1993_549', 'RED31_2006_1578', 'RED320_1988_494', 'RED324_1988_547', 'RED32_1988_1220', 'RED32_1989_746', 'RED32_2010_1751', 'RED32_2011_1789', 'RED332_1988_1126', 'RED338_1988_610', 'RED33_1988_921', 'RED33_1989_733', 'RED341_1988_1052', 'RED34_1989_1259', 'RED34_2002_190', 'RED34_2006_1685', 'RED34_2012_1925', 'RED351_1988_965', 'RED352_1988_642', 'RED355_1988_855', 'RED35_1988_144', 'RED35_1989_820', 'RED35_1993_1147', 'RED35_1995_1344', 'RED35_2011_1721', 'RED364_1988_1236', 'RED36_1988_1333', 'RED36_1991_460', 'RED36_2011_1671', 'RED37_2002_187', 'RED38_1998_545', 'RED38_2002_186', 'RED38_2012_1913', 'RED390_1988_415', 'RED397_1988_825', 'RED39_1989_986', 'RED39_1998_730', 'RED39_2002_90', 'RED406_1988_785', 'RED40_1989_928', 'RED40_2002_91', 'RED41_1989_491', 'RED41_1994_116', 'RED41_2002_169', 'RED41_2012_1758', 'RED42_1989_927', 'RED43_1989_1393', 'RED44_2006_1683', 'RED44_2010_1753', 'RED46_1987_416', 'RED46_1989_672', 'RED46_1990_364', 'RED47_2002_92', 'RED47_2006_1600', 'RED48_2001_72', 'RED49_1987_1006', 'RED49_2012_1844', 'RED50_2011_1813', 'RED50_2012_1926', 'RED51_1989_1088', 'RED51_2011_1670', 'RED51_2012_1908', 'RED52_1989_499', 'RED52_2011_1814', 'RED52_2012_1902', 'RED53_1989_1195', 'RED53_2011_1792', 'RED53_2012_1842', 'RED54_1989_509', 'RED54_2003_1419', 'RED54_2011_1784', 'RED55_1989_759', 'RED55_2002_95', 'RED55_2011_1787', 'RED56_1989_879', 'RED56_2002_167', 'RED57_2002_163', 'RED57_2012_1845', 'RED58_1998_830', 'RED58_2011_1799', 'RED58_2012_1922', 'RED59_2002_192', 'RED59_2012_1909', 'RED5_1986_368', 'RED5_1990_876', 'RED5_2002_185', 'RED60_2001_42', 'RED60_2002_175', 'RED60_2012_1899', 'RED61_2001_65', 'RED61_2012_1843', 'RED62_1995_351', 'RED62_1999_382', 'RED62_2001_45', 'RED62_2003_1478', 'RED62_2012_1936', 'RED63_1989_1231', 'RED63_2002_171', 'RED63_2012_1923', 'RED64_1989_838', 'RED64_2012_1905', 'RED65_2002_165', 'RED65_2011_1777', 'RED66_2002_181', 'RED66_2011_1723', 'RED66_2012_1900', 'RED67_2011_1724', 'RED68_1989_585', 'RED68_2003_1428', 'RED69_1989_709', 'RED69_2006_1673', 'RED69_2012_1839', 'RED70_1989_459', 'RED70_2012_1937', 'RED71_1998_380', 'RED71_2012_1918', 'RED72_1989_356', 'RED72_2011_1816', 'RED72_2012_1906', 'RED73_2011_1801', 'RED74_1989_442', 'RED74_1995_590', 'RED75_1989_1191', 'RED75_1996_243', 'RED76_1989_711', 'RED77_1988_789', 'RED77_1995_1467', 'RED7_1986_119', 'RED7_1994_604', 'RED7_2008_1665', 'RED7_2009_1725', 'RED81_1989_1278', 'RED82_1995_139', 'RED82_2003_1498', 'RED82_2011_1800', 'RED83_1991_1455', 'RED83_1995_959', 'RED84_1995_1024', 'RED84_2006_1576', 'RED85_2011_1818', 'RED86_1995_1283', 'RED88_1995_497', 'RED8_1987_393', 'RED90_2003_1422', 'RED91_1995_1240', 'RED91_2003_1438', 'RED91_2011_1702', 'RED93_1995_667', 'RED93_2003_1545', 'RED93_2011_1738', 'RED94_2012_1854', 'RED96_2011_1804', 'RED99_1988_326', 'RED9_1997_1238', 'SIO100_1988_128', 'SIO101_1989_1327', 'SIO103_1989_769', 'SIO104_1989_1252', 'SIO106_1988_958', 'SIO106_1989_507', 'SIO107_1989_1190', 'SIO107_1991_1197', 'SIO109_1988_304', 'SIO10_1989_285', 'SIO110_1991_1347', 'SIO114_1989_636', 'SIO118_1989_864', 'SIO119_1989_751', 'SIO119_1991_1398', 'SIO11_1989_1345', 'SIO120_1989_482', 'SIO122_1988_1264', 'SIO123_1989_804', 'SIO125_1988_1015', 'SIO127_1988_1397', 'SIO12_1989_858', 'SIO133_1989_1335', 'SIO134_1989_770', 'SIO135_1989_115', 'SIO139_1988_371', 'SIO139_1989_1267', 'SIO143_1989_564', 'SIO150_1989_1106', 'SIO153_1989_503', 'SIO156_1989_1102', 'SIO159_1988_1389', 'SIO162_1989_1054', 'SIO164_1989_269', 'SIO16_1989_224', 'SIO16_1989_930', 'SIO171_1989_1011', 'SIO178_1989_81', 'SIO179_1988_934', 'SIO179_1989_108', 'SIO18_1988_780', 'SIO18_1993_657', 'SIO196_1988_118', 'SIO19_1989_130', 'SIO208_1988_1287', 'SIO209_1988_988', 'SIO20_1992_878', 'SIO20_1993_1446', 'SIO22_1989_111', 'SIO22_1990_339', 'SIO22_1993_1099', 'SIO23_1992_401', 'SIO24_1992_533', 'SIO25_1992_1271', 'SIO26_1992_606', 'SIO27_1987_1362', 'SIO28_1991_242', 'SIO30_1989_1127', 'SIO30_1991_693', 'SIO30_1992_1041', 'SIO31_1993_596', 'SIO33_1989_592', 'SIO34_1991_1048', 'SIO37_1993_991', 'SIO39_1993_510', 'SIO41_1993_717', 'SIO42_1986_1188', 'SIO44_1990_1124', 'SIO44_1993_500', 'SIO45_1986_1175', 'SIO45_1993_265', 'SIO47_1990_1164', 'SIO48_1993_588', 'SIO49_1987_149', 'SIO49_1990_255', 'SIO4_1989_515', 'SIO54_1991_618', 'SIO64_1987_568', 'SIO64_1989_1120', 'SIO66_1988_1302', 'SIO67_1989_244', 'SIO68_1989_1262', 'SIO70_1990_466', 'SIO71_1988_343', 'SIO71_1989_205', 'SIO72_1991_699', 'SIO7_1989_1125', 'SIO80_1989_1014', 'SIO80_1991_595', 'SIO82_1990_1343', 'SIO83_1991_1447', 'SIO86_1989_197', 'SIO86_1990_750', 'SIO87_1989_619', 'SIO8_1989_518', 'SIO91_1986_1158', 'SIO91_1989_668', 'SIO92_1991_1215', 'SIO94_1991_551', 'SIO95_1989_1229', 'SIO96_1991_659', 'SIO97_1989_248', 'SIO98_1988_998', 'SIO9_1989_1392', 'SLK100_1998_1376', 'SLK101_2003_1480', 'SLK101_2011_1737', 'SLK101_2012_1840', 'SLK102_1998_603', 'SLK103_1994_623', 'SLK103_2011_1736', 'SLK104_1995_924', 'SLK104_1998_1016', 'SLK105_1998_840', 'SLK106_1998_207', 'SLK107_1994_882', 'SLK108_1994_333', 'SLK109_1998_1005', 'SLK10_1996_892', 'SLK10_2009_1706', 'SLK110_1998_331', 'SLK111_1998_800', 'SLK118_2006_1590', 'SLK11_2002_54', 'SLK120_1994_122', 'SLK120_1998_1148', 'SLK121_1996_1212', 'SLK121_1998_375', 'SLK122_1998_362', 'SLK124_1998_327', 'SLK127_1998_287', 'SLK128_1995_1182', 'SLK128_1998_450', 'SLK129_1998_666', 'SLK12_2002_55', 'SLK130_1996_788', 'SLK132_2011_1740', 'SLK137_1998_402', 'SLK13_2000_20', 'SLK13_2009_1707', 'SLK140_1998_86', 'SLK144_1998_687', 'SLK146_1998_1113', 'SLK147_2011_1700', 'SLK14_1995_425', 'SLK15_1994_963', 'SLK161_1998_299', 'SLK16_1999_744', 'SLK16_2000_28', 'SLK17_1994_617', 'SLK17_1999_1207', 'SLK17_2002_193', 'SLK17_2009_1705', 'SLK18_1995_162', 'SLK18_2000_24', 'SLK19_2002_172', 'SLK1_2001_63', 'SLK1_2002_16', 'SLK1_2003_1453', 'SLK20_1995_731', 'SLK20_1999_573', 'SLK20_2003_1434', 'SLK20_2012_1919', 'SLK21_2002_177', 'SLK22_2009_1704', 'SLK23_2009_1712', 'SLK24_2001_43', 'SLK24_2009_1727', 'SLK25_2002_19', 'SLK25_2005_1535', 'SLK25_2009_1726', 'SLK26_2009_1715', 'SLK26_2012_1765', 'SLK27_1996_707', 'SLK29_2008_1667', 'SLK29_2012_1855', 'SLK2_2002_51', 'SLK30_2002_184', 'SLK30_2006_1581', 'SLK31_1999_1137', 'SLK31_2002_89', 'SLK32_1995_1462', 'SLK32_2002_183', 'SLK32_2012_1850', 'SLK33_1996_1070', 'SLK33_1999_1282', 'SLK34_1995_1322', 'SLK34_1999_1109', 'SLK34_2008_1666', 'SLK35_1994_1303', 'SLK35_1995_1341', 'SLK35_1999_1199', 'SLK35_2011_1821', 'SLK36_1995_1256', 'SLK36_1999_369', 'SLK36_2002_56', 'SLK37_1995_702', 'SLK37_1999_1203', 'SLK38_1999_1310', 'SLK38_2006_1674', 'SLK38_2011_1798', 'SLK39_1994_1269', 'SLK39_1995_389', 'SLK3_2001_39', 'SLK3_2002_52', 'SLK40_1999_601', 'SLK40_2005_1534', 'SLK40_2006_1672', 'SLK40_2011_1693', 'SLK41_1999_1071', 'SLK42_2006_1675', 'SLK44_1995_1367', 'SLK44_2001_67', 'SLK44_2003_1482', 'SLK44_2006_1593', 'SLK45_2001_44', 'SLK45_2006_1599', 'SLK45_2011_1695', 'SLK46_1996_506', 'SLK46_2011_1694', 'SLK47_1995_323', 'SLK47_1996_358', 'SLK47_2001_69', 'SLK47_2002_73', 'SLK47_2011_1788', 'SLK47_2012_1932', 'SLK48_1995_723', 'SLK48_2006_1681', 'SLK48_2011_1785', 'SLK49_1994_538', 'SLK49_2010_1730', 'SLK4_2001_64', 'SLK4_2002_17', 'SLK4_2003_1401', 'SLK50_1995_1131', 'SLK50_2001_71', 'SLK50_2011_1805', 'SLK51_1995_638', 'SLK51_1996_772', 'SLK51_2003_1403', 'SLK51_2011_1808', 'SLK52_1995_354', 'SLK52_1996_694', 'SLK53_1996_826', 'SLK54_1995_1132', 'SLK54_1996_1251', 'SLK54_1999_1365', 'SLK54_2002_179', 'SLK55_1995_404', 'SLK55_1996_156', 'SLK55_2003_1417', 'SLK55_2011_1741', 'SLK56_1995_779', 'SLK57_2003_1479', 'SLK57_2011_1739', 'SLK58_1994_132', 'SLK58_1995_394', 'SLK58_2003_1412', 'SLK59_1995_841', 'SLK5_2001_38', 'SLK5_2002_12', 'SLK60_1995_931', 'SLK60_1996_884', 'SLK60_2011_1815', 'SLK61_1995_306', 'SLK61_1998_960', 'SLK62_1995_504', 'SLK63_1996_428', 'SLK63_1998_337', 'SLK63_2010_1729', 'SLK64_1998_1067', 'SLK64_2010_1733', 'SLK65_2003_1488', 'SLK65_2010_1732', 'SLK65_2011_1822', 'SLK66_1996_1275', 'SLK66_2003_1432', 'SLK68_1994_490', 'SLK68_1998_1001', 'SLK68_2002_178', 'SLK69_1995_1451', 'SLK69_1996_352', 'SLK69_1998_1475', 'SLK6_2000_27', 'SLK6_2001_37', 'SLK6_2002_13', 'SLK70_1995_237', 'SLK70_1996_1083', 'SLK70_1998_539', 'SLK70_2002_166', 'SLK70_2003_1431', 'SLK70_2011_1807', 'SLK71_1996_1142', 'SLK71_2003_1538', 'SLK71_2011_1745', 'SLK71_2012_1914', 'SLK72_1995_1077', 'SLK72_2012_1766', 'SLK73_1995_597', 'SLK73_1999_556', 'SLK73_2012_1759', 'SLK74_1995_1304', 'SLK74_1996_261', 'SLK74_1998_682', 'SLK74_1999_1167', 'SLK74_2012_1851', 'SLK75_1996_1326', 'SLK75_1998_124', 'SLK75_2011_1699', 'SLK76_1995_567', 'SLK76_1998_987', 'SLK76_2011_1810', 'SLK77_1995_1176', 'SLK78_1995_1370', 'SLK78_1998_477', 'SLK79_1998_1357', 'SLK79_2011_1697', 'SLK79_2012_1927', 'SLK7_2002_14', 'SLK80_1999_1544', 'SLK80_2003_1547', 'SLK81_1995_1042', 'SLK81_1996_1087', 'SLK81_2012_1915', 'SLK82_1998_1135', 'SLK82_1999_992', 'SLK82_2011_1824', 'SLK82_2012_1857', 'SLK84_1996_148', 'SLK84_2011_1669', 'SLK85_1996_338', 'SLK85_2011_1781', 'SLK85_2012_1760', 'SLK86_1995_454', 'SLK87_2011_1782', 'SLK88_1996_656', 'SLK88_2011_1786', 'SLK8_2002_18', 'SLK90_1995_344', 'SLK91_1996_1162', 'SLK91_2012_1846', 'SLK93_2012_1928', 'SLK94_2003_1494', 'SLK95_1996_646', 'SLK95_2011_1817', 'SLK97_2006_1591', 'SLK97_2012_1910', 'SLK99_1996_1253', 'THU102_1996_1138', 'THU105_1996_736', 'THU122_1998_1306', 'THU21_2009_1719', 'THU22_2011_1831', 'THU23_1992_254', 'THU24_1992_633', 'THU30_2005_1525', 'THU33_2011_1829', 'THU35_1996_1371', 'THU35_2012_1858', 'THU36_1996_1313', 'THU38_2008_1668', 'THU39_1996_866', 'THU40_1996_234', 'THU42_1995_501', 'THU42_1996_282', 'THU45_1995_692', 'THU49_1996_1128', 'THU50_2011_1826', 'THU51_1996_1066', 'THU51_2011_1828', 'THU52_1996_1307', 'THU54_1995_1157', 'THU57_2011_1746', 'THU58_2011_1825', 'THU59_1995_972', 'THU65_1996_453', 'THU65_1998_754', 'THU65_2005_1527', 'THU65_2012_1859', 'THU66_2003_1537', 'THU67_1998_478', 'THU79_1995_1183', 'THU80_2011_1830', 'THU83_1996_292', 'THU86_1996_1314', 'THU89_1996_447', 'THU95_1996_962']\n"
     ]
    }
   ],
   "source": [
    "history = pd.read_csv(\"../data/outputs/on/on_defoliation_history.csv\")\n",
    "\n",
    "# Get a list of all the Fire_IDs\n",
    "history_fire_ids = history['Fire_ID'].tolist()\n",
    "\n",
    "# Print the list of Fire_IDs\n",
    "print(history_fire_ids)"
   ]
  },
  {
   "cell_type": "markdown",
   "metadata": {},
   "source": [
    "Read in weather data and get the fire IDS"
   ]
  },
  {
   "cell_type": "code",
   "execution_count": 13,
   "metadata": {},
   "outputs": [
    {
     "name": "stdout",
     "output_type": "stream",
     "text": [
      "['APK20_2016_2015', 'CHA10_2010_1589', 'CHA18_2005_1513', 'CHA29_1995_249', 'CHA3_2020_2213', 'CHA52_1991_1021', 'CHA7_1992_829', 'CHA8_2012_1924', 'CHA9_1990_922', 'COC10_2005_1519', 'COC10_2012_1911', 'COC10_2019_2162', 'COC11_2020_2212', 'COC12_1992_485', 'COC12_2002_53', 'COC12_2015_1961', 'COC12_2020_2215', 'COC13_2015_1977', 'COC14_1992_125', 'COC14_2006_1606', 'COC14_2009_1703', 'COC14_2018_2126', 'COC15_2001_48', 'COC15_2018_2139', 'COC16_1992_1239', 'COC16_1997_1038', 'COC16_2009_1720', 'COC17_1999_738', 'COC18_1992_598', 'COC19_1997_521', 'COC19_2002_74', 'COC20_2018_2041', 'COC22_1999_954', 'COC23_1995_1273', 'COC24_1995_496', 'COC25_1996_158', 'COC25_2011_1827', 'COC28_1996_322', 'COC30_1997_1034', 'COC33_1995_903', 'COC34_1997_475', 'COC34_2006_1686', 'COC36_1995_847', 'COC36_2018_2159', 'COC37_1995_372', 'COC37_2005_1533', 'COC38_1995_629', 'COC53_1996_544', 'COC8_2006_1649', 'COC8_2018_2145', 'COC9_2002_100', 'COC9_2006_1654', 'DRY10_2002_75', 'DRY10_2007_1659', 'DRY12_1996_1145', 'DRY14_2000_30', 'DRY18_1996_839', 'DRY23_1996_942', 'DRY24_1996_1466', 'DRY26_1995_1350', 'DRY29_1995_275', 'DRY31_1996_1105', 'DRY32_1995_703', 'DRY36_1996_957', 'DRY57_2003_1410', 'DRY58_2003_1441', 'DRY79_2006_1692', 'FOR11_1996_134', 'FOR137_1995_1337', 'FOR140_1995_828', 'FOR141_1995_743', 'FOR14_2003_1484', 'FOR14_2005_1514', 'FOR165_2006_1620', 'FOR173_2006_1618', 'FOR179_2006_1623', 'FOR17_2011_1836', 'FOR18_2005_1520', 'FOR24_2005_1516', 'FOR24_2018_2039', 'FOR2_2019_2166', 'FOR38_1995_439', 'FOR42_1995_752', 'FOR42_2011_1834', 'FOR52_2006_1617', 'FOR54_2006_1619', 'FOR57_2006_1621', 'FOR59_2012_1935', 'FOR61_1995_328', 'FOR61_2006_1624', 'FOR63_2006_1622', 'FOR9_1996_467', 'GER17_1992_1355', 'GER18_1992_1094', 'GER19_1993_575', 'GER20_1990_740', 'GER21_1992_720', 'GER25_1991_791', 'GER26_1991_240', 'GER29_1990_999', 'GER30_1990_245', 'GER35_1991_1329', 'GER36_1991_1165', 'GER36_1992_868', 'GER37_1990_321', 'GER39_1990_151', 'GER39_1992_989', 'GER40_1990_938', 'GER40_1991_716', 'GER44_1990_229', 'GER45_1991_396', 'GER46_1990_513', 'GER48_1990_680', 'GER51_1990_1331', 'GER57_1990_631', 'GER60_1990_792', 'GER63_1991_897', 'GER70_1991_449', 'GER75_1990_379', 'GER83_1990_798', 'GER84_1991_1249', 'GER85_1990_135', 'GER92_1991_1201', 'GER96_1991_1309', 'GER98_1991_288', 'GOG4_1991_1464', 'HEA11_2000_58', 'HEA12_2018_2042', 'HEA14_1996_1039', 'HEA16_1992_418', 'HEA20_2010_1770', 'HEA21_1991_512', 'HEA27_1996_270', 'HEA31_2010_1768', 'HEA3_1999_1069', 'HEA48_1995_222', 'HEA4_2016_2004', 'HEA54_1995_1000', 'HEA5_2016_2011', 'HEA63_2005_1511', 'HEA9_2012_1920', 'KEN100_1995_159', 'KEN103_2012_1853', 'KEN105_1995_1173', 'KEN110_2003_1423', 'KEN115_1995_1049', 'KEN121_1995_233', 'KEN18_2016_2014', 'KEN27_2011_1832', 'KEN28_2015_1959', 'KEN36_2012_1917', 'KEN41_2007_1566', 'KEN71_2018_2063', 'KEN77_2018_2140', 'KEN91_2011_1748', 'KLK11_2012_1907', 'KLK13_2012_1856', 'KLK5_2003_1495', 'KLK5_2010_1772', 'KLK8_2012_1841', 'KLK9_2003_1496', 'KLK9_2004_1508', 'MOO15_1991_836', 'NIP101_2002_176', 'NIP104_2005_1536', 'NIP104_2012_1761', 'NIP105_2017_2112', 'NIP108_2006_1651', 'NIP109_1996_231', 'NIP10_2009_1717', 'NIP10_2018_2066', 'NIP110_1996_1377', 'NIP112_2005_1518', 'NIP11_2013_1886', 'NIP11_2017_2104', 'NIP11_2019_2179', 'NIP12_1999_502', 'NIP12_2009_1718', 'NIP12_2016_2003', 'NIP12_2017_1952', 'NIP13_1996_1030', 'NIP13_2009_1713', 'NIP13_2018_2031', 'NIP14_2009_1714', 'NIP151_2006_1592', 'NIP154_1995_756', 'NIP15_2016_2013', 'NIP16_2002_77', 'NIP16_2018_2157', 'NIP17_2003_1485', 'NIP17_2015_1991', 'NIP189_2006_1580', 'NIP18_1999_357', 'NIP19_2000_22', 'NIP19_2009_1711', 'NIP19_2013_1876', 'NIP19_2015_1984', 'NIP20_2005_1521', 'NIP20_2009_1710', 'NIP20_2015_1965', 'NIP20_2018_2146', 'NIP21_2009_1709', 'NIP21_2013_1879', 'NIP226_2006_1644', 'NIP22_1995_543', 'NIP22_1996_474', 'NIP22_2001_46', 'NIP238_2006_1571', 'NIP23_2009_1708', 'NIP23_2013_1894', 'NIP23_2015_1979', 'NIP23_2016_2022', 'NIP245_2006_1605', 'NIP24_2000_23', 'NIP24_2001_7', 'NIP24_2012_1838', 'NIP24_2015_1976', 'NIP24_2018_2151', 'NIP257_2006_1604', 'NIP25_2000_26', 'NIP25_2013_1887', 'NIP262_2006_1567', 'NIP267_2006_1641', 'NIP26_1994_695', 'NIP26_2000_21', 'NIP26_2001_47', 'NIP26_2007_1660', 'NIP26_2020_2207', 'NIP276_2006_1655', 'NIP27_2010_1734', 'NIP27_2018_2057', 'NIP291_2006_1611', 'NIP296_2006_1609', 'NIP29_1997_412', 'NIP29_2017_2078', 'NIP29_2018_2055', 'NIP30_1999_353', 'NIP30_2015_1990', 'NIP30_2018_2115', 'NIP30_2020_2202', 'NIP31_2015_1972', 'NIP31_2018_2059', 'NIP322_2006_1573', 'NIP323_2006_1607', 'NIP327_2006_1596', 'NIP328_2006_1608', 'NIP32_1999_1075', 'NIP32_2012_1929', 'NIP32_2015_1973', 'NIP32_2017_2024', 'NIP32_2018_2050', 'NIP334_2006_1616', 'NIP338_2006_1664', 'NIP33_1995_917', 'NIP341_2006_1614', 'NIP344_2006_1643', 'NIP34_2011_1696', 'NIP35_2001_5', 'NIP35_2010_1767', 'NIP365_2006_1574', 'NIP37_1996_565', 'NIP37_2017_1945', 'NIP37_2018_2034', 'NIP380_2006_1663', 'NIP38_2002_97', 'NIP38_2015_1995', 'NIP38_2017_2111', 'NIP391_2006_1575', 'NIP39_1996_236', 'NIP39_2001_2', 'NIP39_2017_2091', 'NIP400_2006_1613', 'NIP402_2006_1615', 'NIP404_2006_1612', 'NIP406_2006_1569', 'NIP409_2006_1570', 'NIP40_1999_860', 'NIP40_2007_1564', 'NIP40_2011_1791', 'NIP40_2013_1870', 'NIP40_2017_1953', 'NIP40_2018_2037', 'NIP40_2020_2211', 'NIP410_2006_1602', 'NIP411_2006_1657', 'NIP413_2006_1656', 'NIP414_2006_1648', 'NIP415_2006_1645', 'NIP41_2010_1731', 'NIP426_2006_1572', 'NIP428_2006_1646', 'NIP42_2003_1430', 'NIP430_2006_1637', 'NIP43_1996_910', 'NIP43_1999_421', 'NIP43_2013_1868', 'NIP440_2006_1601', 'NIP44_1996_1211', 'NIP44_2013_1864', 'NIP45_2010_1752', 'NIP45_2013_1867', 'NIP45_2018_2132', 'NIP45_2020_2208', 'NIP46_1996_726', 'NIP46_2017_1955', 'NIP46_2020_2203', 'NIP47_2002_182', 'NIP47_2011_1698', 'NIP47_2020_2196', 'NIP48_1996_1078', 'NIP48_2002_180', 'NIP48_2013_1860', 'NIP49_1994_1228', 'NIP49_1996_366', 'NIP49_2012_1763', 'NIP49_2018_2152', 'NIP50_1995_1136', 'NIP50_1996_355', 'NIP50_2013_1866', 'NIP51_1996_620', 'NIP51_2002_94', 'NIP51_2013_1874', 'NIP51_2020_2206', 'NIP52_1999_664', 'NIP52_2001_3', 'NIP52_2005_1522', 'NIP53_2001_1', 'NIP53_2013_1872', 'NIP53_2018_2122', 'NIP54_1995_915', 'NIP54_2001_40', 'NIP54_2002_173', 'NIP54_2011_1735', 'NIP54_2017_2027', 'NIP55_2001_66', 'NIP55_2002_164', 'NIP55_2011_1811', 'NIP56_2002_174', 'NIP58_1996_457', 'NIP58_2003_1421', 'NIP59_1994_1114', 'NIP59_1996_1179', 'NIP59_2003_1555', 'NIP59_2012_1762', 'NIP5_2018_2048', 'NIP60_1996_227', 'NIP60_2012_1848', 'NIP61_1996_318', 'NIP61_1999_689', 'NIP61_2012_1930', 'NIP62_1996_627', 'NIP62_1999_361', 'NIP62_2012_1912', 'NIP63_1996_1056', 'NIP63_2012_1764', 'NIP64_1995_262', 'NIP64_1996_782', 'NIP64_2017_1957', 'NIP65_1996_1146', 'NIP65_2017_2103', 'NIP66_1995_1281', 'NIP66_2011_1835', 'NIP68_2003_1407', 'NIP68_2017_2080', 'NIP70_2006_1583', 'NIP72_2001_68', 'NIP72_2003_1483', 'NIP73_2001_41', 'NIP73_2017_2084', 'NIP74_2001_70', 'NIP75_1994_1469', 'NIP75_1995_140', 'NIP75_2002_76', 'NIP75_2017_1954', 'NIP76_1996_1383', 'NIP77_2001_49', 'NIP77_2017_2079', 'NIP78_2017_1942', 'NIP79_1996_1296', 'NIP79_2002_189', 'NIP79_2003_1558', 'NIP80_1996_310', 'NIP80_2005_1523', 'NIP81_1996_114', 'NIP81_2002_96', 'NIP81_2003_1437', 'NIP81_2006_1684', 'NIP82_1996_776', 'NIP83_1996_805', 'NIP83_2002_88', 'NIP85_2002_103', 'NIP86_1996_856', 'NIP8_1992_1093', 'NIP92_2003_1402', 'NIP94_2011_1747', 'NIP95_2003_1500', 'NIP95_2017_2114', 'NIP97_1999_737', 'NIP98_2017_2097', 'NIP99_1999_508', 'NIP99_2017_2094', 'NIP9_1992_1122', 'NIP9_2017_2090', 'NOR11_1999_1390', 'NOR17_1999_728', 'NOR19_2018_2136', 'NOR25_2018_2121', 'NOR32_2016_2002', 'NOR42_2018_2129', 'NOR46_2018_2069', 'NOR55_2018_2141', 'NOR56_2018_2044', 'NOR61_2018_2134', 'NOR62_2018_2053', 'NOR68_2018_2028', 'NOR69_2018_2119', 'NOR72_2018_2035', 'PAR13_1999_571', 'PAR33_2018_2071', 'PEM25_2012_1933', 'PEM2_2007_1588', 'PEM6_2018_2137', 'PEM74_1990_765', 'PEM7_2018_2038', 'PEM9_2002_104', 'PET1_2001_50', 'RED100_2011_1783', 'RED101_2011_1802', 'RED103_2011_1812', 'RED103_2012_1757', 'RED103_2017_2102', 'RED103_2018_2061', 'RED106_2011_1803', 'RED107_2011_1779', 'RED108_2018_2033', 'RED109_2018_2155', 'RED10_2009_1716', 'RED10_2015_1960', 'RED110_2018_2030', 'RED111_2011_1742', 'RED112_2011_1744', 'RED113_2006_1629', 'RED113_2011_1743', 'RED114_2011_1778', 'RED115_2018_2156', 'RED118_2011_1780', 'RED11_2007_1562', 'RED11_2015_1986', 'RED120_2011_1793', 'RED121_2011_1722', 'RED121_2018_2158', 'RED122_2011_1794', 'RED123_2011_1790', 'RED124_2011_1958', 'RED12_2000_25', 'RED12_2020_2194', 'RED13_1996_1388', 'RED146_2006_1628', 'RED14_1990_966', 'RED14_1996_764', 'RED14_2000_57', 'RED14_2006_1594', 'RED14_2019_2176', 'RED15_1990_867', 'RED15_2006_1595', 'RED163_2006_1625', 'RED16_1990_796', 'RED16_2006_1679', 'RED16_2015_1994', 'RED170_2018_2052', 'RED175_2006_1577', 'RED176_2006_1632', 'RED177_2006_1579', 'RED17_1996_652', 'RED17_2014_2020', 'RED17_2015_1993', 'RED17_2019_2178', 'RED182_2006_1626', 'RED183_2006_1627', 'RED184_2006_1678', 'RED186_2006_1677', 'RED188_2006_1676', 'RED18_1996_559', 'RED18_2020_2209', 'RED192_2006_1680', 'RED193_2006_1682', 'RED19_1996_198', 'RED19_1999_219', 'RED1_2002_15', 'RED21_1990_632', 'RED21_1995_1324', 'RED21_2002_170', 'RED22_1991_263', 'RED22_1993_309', 'RED22_1995_901', 'RED22_2011_1797', 'RED22_2020_2195', 'RED23_1996_1002', 'RED23_2002_168', 'RED23_2011_1795', 'RED23_2017_1941', 'RED23_2019_2164', 'RED24_1995_1019', 'RED24_1996_713', 'RED24_2011_1796', 'RED24_2013_1892', 'RED24_2015_1966', 'RED24_2019_2186', 'RED24_2020_2199', 'RED25_2010_1756', 'RED25_2015_1983', 'RED25_2019_2181', 'RED26_2010_1755', 'RED26_2011_1806', 'RED27_1996_889', 'RED27_2002_191', 'RED27_2011_1701', 'RED28_2012_1849', 'RED29_1993_406', 'RED29_1995_484', 'RED29_2011_1809', 'RED29_2014_2017', 'RED29_2020_2204', 'RED30_2018_2032', 'RED30_2019_2182', 'RED30_2020_2218', 'RED31_1993_549', 'RED31_2013_1862', 'RED32_2010_1751', 'RED32_2011_1789', 'RED32_2013_1865', 'RED34_2002_190', 'RED34_2012_1925', 'RED34_2017_2025', 'RED35_1993_1147', 'RED35_2011_1721', 'RED36_1991_460', 'RED36_2011_1671', 'RED37_2002_187', 'RED37_2019_2185', 'RED38_2002_186', 'RED38_2012_1913', 'RED38_2018_2029', 'RED38_2019_2171', 'RED39_2002_90', 'RED39_2012_1901', 'RED39_2019_2172', 'RED3_2016_2005', 'RED40_2002_91', 'RED40_2019_2177', 'RED41_1994_116', 'RED41_2002_169', 'RED41_2012_1758', 'RED41_2013_1888', 'RED44_2006_1683', 'RED44_2010_1753', 'RED44_2015_1968', 'RED44_2019_2165', 'RED45_2019_2169', 'RED46_2015_1996', 'RED47_2002_92', 'RED48_2001_72', 'RED49_2012_1844', 'RED49_2019_2189', 'RED49_2020_2210', 'RED4_2014_2019', 'RED50_2011_1813', 'RED50_2012_1926', 'RED50_2015_1999', 'RED51_2011_1670', 'RED51_2012_1908', 'RED52_2011_1814', 'RED52_2012_1902', 'RED52_2018_2148', 'RED53_2011_1792', 'RED53_2012_1842', 'RED54_2011_1784', 'RED54_2017_2113', 'RED55_2002_95', 'RED55_2011_1787', 'RED55_2018_2124', 'RED56_2002_167', 'RED56_2013_1884', 'RED56_2017_2098', 'RED57_2002_163', 'RED57_2012_1845', 'RED57_2018_2130', 'RED57_2019_2174', 'RED58_1999_677', 'RED58_2011_1799', 'RED58_2012_1922', 'RED58_2015_1987', 'RED59_2012_1909', 'RED59_2015_1962', 'RED59_2019_2180', 'RED5_1990_876', 'RED5_2002_185', 'RED60_2001_42', 'RED60_2002_175', 'RED60_2012_1899', 'RED60_2018_2150', 'RED60_2019_2190', 'RED61_2001_65', 'RED61_2012_1843', 'RED62_1995_351', 'RED62_2012_1936', 'RED62_2019_2193', 'RED63_2002_171', 'RED63_2012_1923', 'RED64_2012_1905', 'RED65_2003_1440', 'RED65_2011_1777', 'RED66_2002_181', 'RED66_2011_1723', 'RED66_2012_1900', 'RED67_2011_1724', 'RED67_2018_2070', 'RED68_2003_1428', 'RED69_2006_1673', 'RED69_2012_1839', 'RED69_2017_2092', 'RED70_2012_1937', 'RED70_2018_2149', 'RED71_2012_1918', 'RED72_2011_1816', 'RED72_2012_1906', 'RED73_2011_1801', 'RED75_1996_243', 'RED75_2019_2192', 'RED76_2018_2147', 'RED77_1995_1467', 'RED78_2018_2138', 'RED7_2008_1665', 'RED7_2009_1725', 'RED7_2015_1998', 'RED80_2018_2049', 'RED81_1995_964', 'RED81_2018_2127', 'RED82_1995_139', 'RED82_2003_1498', 'RED82_2011_1800', 'RED82_2018_2040', 'RED83_1991_1455', 'RED83_1995_959', 'RED84_1995_1024', 'RED84_2006_1576', 'RED84_2011_1823', 'RED85_2011_1818', 'RED86_2018_2060', 'RED87_2017_2088', 'RED88_1995_497', 'RED8_2014_1882', 'RED8_2020_2198', 'RED90_2003_1422', 'RED91_2003_1438', 'RED91_2011_1702', 'RED93_2003_1545', 'RED93_2011_1738', 'RED94_2012_1854', 'RED96_2011_1804', 'RED96_2018_2116', 'RED97_2018_2064', 'RED9_1997_1238', 'RED9_2020_2216', 'SAU13_2007_1587', 'SAU78_2006_1560', 'SAU7_2003_1436', 'SIO110_1991_1347', 'SIO119_1991_1398', 'SIO20_1992_878', 'SIO22_1990_339', 'SIO22_1993_1099', 'SIO23_1992_401', 'SIO24_1992_533', 'SIO25_1992_1271', 'SIO26_1992_606', 'SIO30_1991_693', 'SIO31_1993_596', 'SIO34_1991_1048', 'SIO37_1993_991', 'SIO41_1993_717', 'SIO44_1990_1124', 'SIO45_1993_265', 'SIO48_1993_588', 'SIO49_1990_255', 'SIO54_1991_618', 'SIO80_1991_595', 'SIO82_1990_1343', 'SIO83_1991_1447', 'SIO92_1991_1215', 'SIO94_1991_551', 'SLK101_2003_1480', 'SLK101_2011_1737', 'SLK101_2012_1840', 'SLK102_2017_1956', 'SLK103_1994_623', 'SLK103_2011_1736', 'SLK103_2017_2095', 'SLK104_1995_924', 'SLK105_2012_1931', 'SLK107_1994_882', 'SLK108_1994_333', 'SLK10_1996_892', 'SLK10_2009_1706', 'SLK113_2018_2135', 'SLK115_2017_2023', 'SLK117_2018_2117', 'SLK118_2006_1590', 'SLK11_2002_54', 'SLK11_2007_1658', 'SLK120_1994_122', 'SLK121_1996_1212', 'SLK122_2017_2081', 'SLK128_1995_1182', 'SLK129_2017_1951', 'SLK12_2002_55', 'SLK130_1996_788', 'SLK132_2011_1740', 'SLK13_2000_20', 'SLK13_2009_1707', 'SLK13_2014_1881', 'SLK147_2011_1700', 'SLK14_1995_425', 'SLK157_2017_2082', 'SLK15_1994_963', 'SLK162_2017_2100', 'SLK162_2018_2133', 'SLK16_2000_28', 'SLK16_2013_1873', 'SLK175_2017_2072', 'SLK17_1994_617', 'SLK17_1999_1207', 'SLK17_2002_193', 'SLK17_2009_1705', 'SLK17_2017_2107', 'SLK187_2017_1946', 'SLK18_2000_24', 'SLK18_2013_1878', 'SLK18_2018_2068', 'SLK19_2002_172', 'SLK19_2013_1871', 'SLK19_2015_1967', 'SLK19_2018_2054', 'SLK1_2001_63', 'SLK1_2002_16', 'SLK1_2003_1453', 'SLK200_2017_2026', 'SLK20_1995_731', 'SLK20_1999_573', 'SLK20_2003_1434', 'SLK20_2012_1919', 'SLK21_2002_177', 'SLK21_2013_1890', 'SLK21_2015_1981', 'SLK22_2009_1704', 'SLK22_2013_1889', 'SLK22_2018_2144', 'SLK22_2019_2187', 'SLK23_2009_1712', 'SLK23_2013_1885', 'SLK23_2015_1974', 'SLK23_2016_2000', 'SLK23_2017_2077', 'SLK23_2018_2056', 'SLK24_2001_43', 'SLK24_2009_1727', 'SLK24_2013_1895', 'SLK25_2005_1535', 'SLK25_2009_1726', 'SLK25_2013_1861', 'SLK25_2020_2201', 'SLK26_2009_1715', 'SLK26_2012_1765', 'SLK26_2017_2089', 'SLK26_2018_2142', 'SLK26_2020_2197', 'SLK27_1996_707', 'SLK27_2013_1869', 'SLK27_2018_2154', 'SLK28_2015_1992', 'SLK29_2008_1667', 'SLK29_2012_1855', 'SLK29_2016_2007', 'SLK2_2002_51', 'SLK30_2002_184', 'SLK30_2006_1581', 'SLK30_2015_1975', 'SLK30_2016_2016', 'SLK31_2002_89', 'SLK31_2013_1891', 'SLK31_2019_2184', 'SLK32_1995_1462', 'SLK32_2012_1850', 'SLK32_2015_1980', 'SLK32_2017_1948', 'SLK33_1996_1070', 'SLK33_1999_1282', 'SLK33_2017_2106', 'SLK33_2019_2168', 'SLK34_2008_1666', 'SLK35_1994_1303', 'SLK35_1995_1341', 'SLK35_1999_1199', 'SLK35_2011_1821', 'SLK35_2013_1875', 'SLK36_1995_1256', 'SLK36_1999_369', 'SLK36_2002_56', 'SLK36_2015_1985', 'SLK36_2017_1950', 'SLK36_2020_2200', 'SLK37_1999_1203', 'SLK37_2013_1893', 'SLK37_2018_2058', 'SLK37_2019_2175', 'SLK37_2020_2160', 'SLK38_1999_1310', 'SLK38_2006_1674', 'SLK38_2011_1798', 'SLK38_2017_2105', 'SLK38_2019_2167', 'SLK39_1994_1269', 'SLK39_1995_389', 'SLK39_2019_2170', 'SLK3_2001_39', 'SLK3_2002_52', 'SLK3_2020_2205', 'SLK40_1999_601', 'SLK40_2005_1534', 'SLK40_2006_1672', 'SLK40_2019_2163', 'SLK41_1999_1071', 'SLK41_2013_1897', 'SLK41_2015_1989', 'SLK41_2019_2183', 'SLK42_2006_1675', 'SLK42_2017_1949', 'SLK43_2013_1896', 'SLK43_2017_2075', 'SLK44_2001_67', 'SLK44_2006_1593', 'SLK44_2017_2083', 'SLK44_2018_2043', 'SLK45_2001_44', 'SLK45_2006_1599', 'SLK45_2011_1695', 'SLK45_2013_1863', 'SLK45_2017_1940', 'SLK46_1996_506', 'SLK46_2011_1694', 'SLK47_1996_358', 'SLK47_2001_69', 'SLK47_2002_73', 'SLK47_2011_1788', 'SLK47_2012_1932', 'SLK47_2020_2217', 'SLK48_1995_723', 'SLK48_2011_1785', 'SLK48_2018_2047', 'SLK48_2020_2214', 'SLK49_1994_538', 'SLK49_2010_1730', 'SLK49_2018_2128', 'SLK4_2001_64', 'SLK4_2002_17', 'SLK4_2003_1401', 'SLK50_1995_1131', 'SLK50_2011_1805', 'SLK51_1995_638', 'SLK51_1996_772', 'SLK51_2003_1403', 'SLK51_2011_1808', 'SLK51_2018_2046', 'SLK52_1996_694', 'SLK52_2017_2110', 'SLK53_1996_826', 'SLK53_2015_1969', 'SLK53_2018_2067', 'SLK54_1995_1132', 'SLK54_1999_1365', 'SLK54_2002_179', 'SLK55_1996_156', 'SLK55_2011_1741', 'SLK55_2015_1963', 'SLK55_2018_2143', 'SLK56_1995_779', 'SLK56_2018_2118', 'SLK57_2003_1479', 'SLK57_2011_1739', 'SLK57_2015_1997', 'SLK57_2018_2062', 'SLK58_1994_132', 'SLK58_1995_394', 'SLK58_2003_1412', 'SLK59_1995_841', 'SLK5_2001_38', 'SLK5_2002_12', 'SLK60_1995_931', 'SLK60_2011_1815', 'SLK61_1995_306', 'SLK61_2011_1819', 'SLK62_1995_504', 'SLK62_2015_1988', 'SLK63_1996_428', 'SLK63_2010_1729', 'SLK63_2017_2096', 'SLK64_2010_1733', 'SLK64_2011_1820', 'SLK64_2017_2086', 'SLK65_1995_307', 'SLK65_2003_1488', 'SLK65_2010_1732', 'SLK65_2011_1822', 'SLK66_1996_1275', 'SLK66_2003_1432', 'SLK67_2015_1982', 'SLK67_2018_2123', 'SLK68_1994_490', 'SLK68_2002_178', 'SLK68_2017_2101', 'SLK68_2018_2065', 'SLK69_1995_1451', 'SLK69_1996_352', 'SLK6_2000_27', 'SLK6_2001_37', 'SLK6_2002_13', 'SLK6_2016_2012', 'SLK70_1995_237', 'SLK70_1996_1083', 'SLK70_2002_166', 'SLK70_2003_1431', 'SLK70_2011_1807', 'SLK71_1996_1142', 'SLK71_2003_1538', 'SLK71_2011_1745', 'SLK71_2012_1914', 'SLK72_1995_1077', 'SLK72_2012_1766', 'SLK73_1995_597', 'SLK73_2012_1759', 'SLK74_1995_1304', 'SLK74_1996_261', 'SLK74_1999_1167', 'SLK74_2012_1851', 'SLK75_1996_1326', 'SLK75_2011_1699', 'SLK76_1995_567', 'SLK76_2011_1810', 'SLK77_1995_1176', 'SLK78_1995_1370', 'SLK79_2011_1697', 'SLK79_2012_1927', 'SLK7_2002_14', 'SLK7_2017_2099', 'SLK80_1999_1544', 'SLK80_2003_1547', 'SLK81_1995_1042', 'SLK81_2012_1915', 'SLK82_1999_992', 'SLK82_2011_1824', 'SLK82_2012_1857', 'SLK82_2017_2076', 'SLK84_1996_148', 'SLK84_2011_1669', 'SLK85_1996_338', 'SLK85_2011_1781', 'SLK85_2012_1760', 'SLK86_1995_454', 'SLK86_1996_1174', 'SLK87_2011_1782', 'SLK88_1996_656', 'SLK88_2011_1786', 'SLK8_2002_18', 'SLK8_2017_1947', 'SLK8_2019_2188', 'SLK90_1995_344', 'SLK91_1996_1162', 'SLK91_2012_1846', 'SLK93_2012_1928', 'SLK94_2003_1494', 'SLK95_1996_646', 'SLK95_2011_1817', 'SLK96_2017_2074', 'SLK97_2006_1591', 'SLK97_2012_1910', 'SUD121_1999_1289', 'SUD164_1991_676', 'SUD165_1991_949', 'SUD23_1992_715', 'SUD35_2016_2006', 'SUD38_2015_1970', 'SUD46_2007_1586', 'SUD83_2018_2125', 'SUD8_2006_1561', 'TEM5_1992_1319', 'THU102_1996_1138', 'THU105_1996_736', 'THU113_2006_1568', 'THU130_1991_1263', 'THU132_1995_944', 'THU133_2006_1688', 'THU136_1995_414', 'THU13_1999_514', 'THU142_2006_1634', 'THU143_2006_1642', 'THU144_2006_1638', 'THU14_1995_308', 'THU151_2006_1650', 'THU154_2006_1687', 'THU163_2006_1640', 'THU167_2006_1653', 'THU16_2002_102', 'THU16_2013_1877', 'THU176_2006_1652', 'THU184_2006_1647', 'THU185_2006_1633', 'THU187_2006_1598', 'THU189_2006_1610', 'THU190_2006_1636', 'THU192_2006_1689', 'THU19_2016_2001', 'THU21_2009_1719', 'THU22_2011_1831', 'THU232_2006_1690', 'THU234_2006_1635', 'THU23_1992_254', 'THU246_2006_1597', 'THU249_2006_1639', 'THU24_1992_633', 'THU28_2003_1502', 'THU30_2005_1525', 'THU31_2005_1510', 'THU31_2017_2093', 'THU33_2011_1829', 'THU35_1996_1371', 'THU35_2012_1858', 'THU36_1996_1313', 'THU36_2007_1584', 'THU36_2018_2051', 'THU37_2007_1662', 'THU38_1996_675', 'THU38_2008_1668', 'THU39_1996_866', 'THU39_2007_1661', 'THU40_1996_234', 'THU41_1996_553', 'THU42_1995_501', 'THU42_1996_282', 'THU45_1995_692', 'THU49_1996_1128', 'THU4_2020_2161', 'THU50_2011_1826', 'THU51_2011_1828', 'THU52_1996_1307', 'THU52_2018_2036', 'THU53_1995_1395', 'THU53_1996_593', 'THU54_1995_1157', 'THU57_2005_1526', 'THU57_2011_1746', 'THU58_1996_127', 'THU58_2011_1825', 'THU58_2017_2073', 'THU59_1995_972', 'THU59_2017_2085', 'THU61_2017_2087', 'THU65_1996_453', 'THU65_2005_1527', 'THU65_2012_1859', 'THU66_2003_1537', 'THU67_1996_1222', 'THU67_2005_1528', 'THU71_1996_461', 'THU74_1996_1129', 'THU76_1996_311', 'THU77_1996_1187', 'THU79_1995_1183', 'THU80_1996_348', 'THU80_2011_1830', 'THU83_1996_292', 'THU84_1996_147', 'THU86_1996_1314', 'THU89_1996_447', 'THU90_1996_1274', 'THU95_1996_962', 'TIM12_1997_1531', 'TIM12_2018_2153', 'TIM13_2010_1776', 'TIM19_2005_1512', 'TIM24_1997_121', 'TIM27_2012_1921', 'TIM2_1997_488', 'TIM2_2019_2173', 'TIM34_2011_1750', 'TIM3_2007_1585', 'TIM47_2012_1903', 'TIM56_2005_1529', 'TIM5_1996_563', 'TIM5_2005_1517', 'TIM6_2018_2045', 'TIM7_2005_1515', 'TIM7_2010_1774', 'TIM7_2012_1898', 'TIM9_2010_1773', 'TIM9_2012_1852', 'WAW12_2011_1749', 'WAW13_2003_1409', 'WAW17_2012_1934', 'WAW18_2010_1775', 'WAW21_2003_1406', 'WAW23_2003_1503', 'WAW31_1995_650', 'WAW4_2012_1916', 'WAW5_2012_1904', 'WAW69_1995_946', 'WAW7_2016_2010', 'WAW86_1995_724', 'WAW87_1995_1025']\n"
     ]
    }
   ],
   "source": [
    "wx = pd.read_csv(\"../data/wx/fwi-90th-fire-duration.csv\")\n",
    "\n",
    "# get a list of all the Fire_IDs\n",
    "wx_fire_ids = wx['Fire_ID'].tolist()\n",
    "\n",
    "# print the list of Fire_IDs\n",
    "print(wx_fire_ids)"
   ]
  },
  {
   "cell_type": "markdown",
   "metadata": {},
   "source": [
    "Check to see if the how many matches"
   ]
  },
  {
   "cell_type": "code",
   "execution_count": 14,
   "metadata": {},
   "outputs": [
    {
     "name": "stdout",
     "output_type": "stream",
     "text": [
      "Matches: 818\n",
      "Differences: 786\n"
     ]
    }
   ],
   "source": [
    "def compare_lists(list1, list2):\n",
    "    # Find the matches between the two lists\n",
    "    matches = list(set(list1) & set(list2))\n",
    "    \n",
    "    # Find the differences between the two lists\n",
    "    differences = list(set(list1) ^ set(list2))\n",
    "    \n",
    "    return matches, differences\n",
    "\n",
    "# Get the matches and differences\n",
    "matches, differences = compare_lists(history_fire_ids, wx_fire_ids)\n",
    "\n",
    "# Print the results\n",
    "print(\"Matches:\", len(matches))\n",
    "print(\"Differences:\", len(differences))"
   ]
  },
  {
   "cell_type": "markdown",
   "metadata": {},
   "source": [
    "Search through the matches and check the distribution of histories"
   ]
  },
  {
   "cell_type": "code",
   "execution_count": 18,
   "metadata": {},
   "outputs": [
    {
     "data": {
      "text/html": [
       "<div>\n",
       "<style scoped>\n",
       "    .dataframe tbody tr th:only-of-type {\n",
       "        vertical-align: middle;\n",
       "    }\n",
       "\n",
       "    .dataframe tbody tr th {\n",
       "        vertical-align: top;\n",
       "    }\n",
       "\n",
       "    .dataframe thead th {\n",
       "        text-align: right;\n",
       "    }\n",
       "</style>\n",
       "<table border=\"1\" class=\"dataframe\">\n",
       "  <thead>\n",
       "    <tr style=\"text-align: right;\">\n",
       "      <th></th>\n",
       "      <th>Fire_ID</th>\n",
       "      <th>history</th>\n",
       "      <th>rbr</th>\n",
       "      <th>rbr_w_offset</th>\n",
       "      <th>Fire_Year</th>\n",
       "      <th>host_species</th>\n",
       "      <th>total_pixels</th>\n",
       "      <th>host_percentage</th>\n",
       "      <th>Average Recovery</th>\n",
       "      <th>Time_Since_Defoliation</th>\n",
       "      <th>Cumulative_Years</th>\n",
       "      <th>Max_Overlap_Area</th>\n",
       "      <th>Max_Overlap_Percent</th>\n",
       "      <th>fire_area</th>\n",
       "    </tr>\n",
       "  </thead>\n",
       "  <tbody>\n",
       "    <tr>\n",
       "      <th>2</th>\n",
       "      <td>CHA10_2010_1589</td>\n",
       "      <td>1</td>\n",
       "      <td>562.55</td>\n",
       "      <td>532.81</td>\n",
       "      <td>2010</td>\n",
       "      <td>279.0</td>\n",
       "      <td>364.0</td>\n",
       "      <td>76.6</td>\n",
       "      <td>104.52</td>\n",
       "      <td>22</td>\n",
       "      <td>16</td>\n",
       "      <td>7.649734e+05</td>\n",
       "      <td>100.0</td>\n",
       "      <td>1.092</td>\n",
       "    </tr>\n",
       "    <tr>\n",
       "      <th>6</th>\n",
       "      <td>CHA18_2005_1513</td>\n",
       "      <td>1</td>\n",
       "      <td>606.90</td>\n",
       "      <td>283.70</td>\n",
       "      <td>2005</td>\n",
       "      <td>206.0</td>\n",
       "      <td>226.0</td>\n",
       "      <td>91.2</td>\n",
       "      <td>74.98</td>\n",
       "      <td>17</td>\n",
       "      <td>17</td>\n",
       "      <td>9.548102e+05</td>\n",
       "      <td>100.0</td>\n",
       "      <td>0.678</td>\n",
       "    </tr>\n",
       "    <tr>\n",
       "      <th>9</th>\n",
       "      <td>CHA29_1995_249</td>\n",
       "      <td>1</td>\n",
       "      <td>504.62</td>\n",
       "      <td>238.17</td>\n",
       "      <td>1995</td>\n",
       "      <td>43381.0</td>\n",
       "      <td>54481.0</td>\n",
       "      <td>79.6</td>\n",
       "      <td>118.38</td>\n",
       "      <td>7</td>\n",
       "      <td>17</td>\n",
       "      <td>1.294594e+08</td>\n",
       "      <td>100.0</td>\n",
       "      <td>163.443</td>\n",
       "    </tr>\n",
       "    <tr>\n",
       "      <th>11</th>\n",
       "      <td>CHA52_1991_1021</td>\n",
       "      <td>1</td>\n",
       "      <td>273.85</td>\n",
       "      <td>225.15</td>\n",
       "      <td>1991</td>\n",
       "      <td>1786.0</td>\n",
       "      <td>2786.0</td>\n",
       "      <td>64.1</td>\n",
       "      <td>226.04</td>\n",
       "      <td>3</td>\n",
       "      <td>17</td>\n",
       "      <td>1.411834e+07</td>\n",
       "      <td>100.0</td>\n",
       "      <td>8.358</td>\n",
       "    </tr>\n",
       "    <tr>\n",
       "      <th>12</th>\n",
       "      <td>CHA7_1992_829</td>\n",
       "      <td>1</td>\n",
       "      <td>275.55</td>\n",
       "      <td>336.29</td>\n",
       "      <td>1992</td>\n",
       "      <td>2428.0</td>\n",
       "      <td>3018.0</td>\n",
       "      <td>80.5</td>\n",
       "      <td>225.63</td>\n",
       "      <td>4</td>\n",
       "      <td>17</td>\n",
       "      <td>9.124350e+06</td>\n",
       "      <td>100.0</td>\n",
       "      <td>9.054</td>\n",
       "    </tr>\n",
       "  </tbody>\n",
       "</table>\n",
       "</div>"
      ],
      "text/plain": [
       "            Fire_ID  history     rbr  rbr_w_offset  Fire_Year  host_species  \\\n",
       "2   CHA10_2010_1589        1  562.55        532.81       2010         279.0   \n",
       "6   CHA18_2005_1513        1  606.90        283.70       2005         206.0   \n",
       "9    CHA29_1995_249        1  504.62        238.17       1995       43381.0   \n",
       "11  CHA52_1991_1021        1  273.85        225.15       1991        1786.0   \n",
       "12    CHA7_1992_829        1  275.55        336.29       1992        2428.0   \n",
       "\n",
       "    total_pixels  host_percentage  Average Recovery  Time_Since_Defoliation  \\\n",
       "2          364.0             76.6            104.52                      22   \n",
       "6          226.0             91.2             74.98                      17   \n",
       "9        54481.0             79.6            118.38                       7   \n",
       "11        2786.0             64.1            226.04                       3   \n",
       "12        3018.0             80.5            225.63                       4   \n",
       "\n",
       "    Cumulative_Years  Max_Overlap_Area  Max_Overlap_Percent  fire_area  \n",
       "2                 16      7.649734e+05                100.0      1.092  \n",
       "6                 17      9.548102e+05                100.0      0.678  \n",
       "9                 17      1.294594e+08                100.0    163.443  \n",
       "11                17      1.411834e+07                100.0      8.358  \n",
       "12                17      9.124350e+06                100.0      9.054  "
      ]
     },
     "execution_count": 18,
     "metadata": {},
     "output_type": "execute_result"
    }
   ],
   "source": [
    "# filter history dataframe by matches\n",
    "history_matches = history[history['Fire_ID'].isin(matches)]\n",
    "\n",
    "history_matches.head()"
   ]
  },
  {
   "cell_type": "code",
   "execution_count": 19,
   "metadata": {},
   "outputs": [
    {
     "data": {
      "image/png": "[encoded data removed]",
      "text/plain": [
       "<Figure size 800x600 with 1 Axes>"
      ]
     },
     "metadata": {},
     "output_type": "display_data"
    }
   ],
   "source": [
    "#Visualize the counts of history/no history\n",
    "\n",
    "# Create a bar chart of the frequency of the history column\n",
    "plt.figure(figsize=(8, 6))\n",
    "ax = sns.countplot(x='history', data=history_matches)\n",
    "\n",
    "# Add the number of individual observations at the top of each bar\n",
    "for p in ax.patches:\n",
    "    ax.annotate(f'{p.get_height()}', (p.get_x() + p.get_width() / 2., p.get_height()), \n",
    "                ha='center', va='baseline', fontsize=12, color='black', xytext=(0, 5), \n",
    "                textcoords='offset points')\n",
    "\n",
    "# Set the labels and title\n",
    "ax.set_xlabel('History')\n",
    "ax.set_ylabel('Frequency')\n",
    "ax.set_title('Frequency of History Column')\n",
    "\n",
    "# Show the plot\n",
    "plt.show()"
   ]
  },
  {
   "cell_type": "markdown",
   "metadata": {},
   "source": [
    "Join the weather dataset to the filtered matches dataset"
   ]
  },
  {
   "cell_type": "code",
   "execution_count": 22,
   "metadata": {},
   "outputs": [
    {
     "name": "stdout",
     "output_type": "stream",
     "text": [
      "<class 'pandas.core.frame.DataFrame'>\n",
      "RangeIndex: 818 entries, 0 to 817\n",
      "Data columns (total 20 columns):\n",
      " #   Column                  Non-Null Count  Dtype  \n",
      "---  ------                  --------------  -----  \n",
      " 0   Fire_ID                 818 non-null    object \n",
      " 1   history                 818 non-null    int64  \n",
      " 2   rbr                     818 non-null    float64\n",
      " 3   rbr_w_offset            818 non-null    float64\n",
      " 4   Fire_Year               818 non-null    int64  \n",
      " 5   host_species            818 non-null    float64\n",
      " 6   total_pixels            818 non-null    float64\n",
      " 7   host_percentage         818 non-null    float64\n",
      " 8   Average Recovery        818 non-null    float64\n",
      " 9   Time_Since_Defoliation  818 non-null    int64  \n",
      " 10  Cumulative_Years        818 non-null    int64  \n",
      " 11  Max_Overlap_Area        818 non-null    float64\n",
      " 12  Max_Overlap_Percent     818 non-null    float64\n",
      " 13  fire_area               818 non-null    float64\n",
      " 14  isi_90                  818 non-null    float64\n",
      " 15  dc_90                   818 non-null    float64\n",
      " 16  dmc_90                  818 non-null    float64\n",
      " 17  ffmc_90                 818 non-null    float64\n",
      " 18  bui_90                  818 non-null    float64\n",
      " 19  fwi_90                  818 non-null    float64\n",
      "dtypes: float64(15), int64(4), object(1)\n",
      "memory usage: 127.9+ KB\n"
     ]
    }
   ],
   "source": [
    "history_wx = pd.merge(history_matches, wx, on='Fire_ID').drop(columns=['Unnamed: 0'])\n",
    "\n",
    "history_wx.info()"
   ]
  },
  {
   "cell_type": "code",
   "execution_count": 23,
   "metadata": {},
   "outputs": [],
   "source": [
    "# Write the combined DataFrame to a CSV file\n",
    "history_wx.to_csv(\"../data/outputs/on/on_defoliation_history_wx.csv\", index=False)"
   ]
  },
  {
   "cell_type": "markdown",
   "metadata": {},
   "source": [
    "## investigate host %"
   ]
  },
  {
   "cell_type": "code",
   "execution_count": 25,
   "metadata": {},
   "outputs": [
    {
     "data": {
      "image/png": "[encoded data removed]",
      "text/plain": [
       "<Figure size 1000x600 with 1 Axes>"
      ]
     },
     "metadata": {},
     "output_type": "display_data"
    }
   ],
   "source": [
    "# Create a plot of the frequency distribution of the host_percentage column\n",
    "plt.figure(figsize=(10, 6))\n",
    "ax = sns.histplot(history_wx['host_percentage'], bins=10, kde=True)\n",
    "\n",
    "# Annotate each bin with the number of fires\n",
    "for patch in ax.patches:\n",
    "    height = patch.get_height()\n",
    "    if height > 0:  # Only annotate bins with counts\n",
    "        ax.annotate(f'{int(height)}', \n",
    "                    xy=(patch.get_x() + patch.get_width() / 2, height), \n",
    "                    xytext=(0, 5),  # 5 points vertical offset\n",
    "                    textcoords='offset points', \n",
    "                    ha='center', va='baseline', fontsize=10, color='black')\n",
    "\n",
    "# Set the labels and title\n",
    "plt.xlabel('Host Percentage')\n",
    "plt.ylabel('Frequency')\n",
    "plt.title('Frequency Distribution of Host Percentage')\n",
    "\n",
    "# Show the plot\n",
    "plt.show()"
   ]
  },
  {
   "cell_type": "code",
   "execution_count": 26,
   "metadata": {},
   "outputs": [
    {
     "data": {
      "image/png": "[encoded data removed]",
      "text/plain": [
       "<Figure size 1000x600 with 1 Axes>"
      ]
     },
     "metadata": {},
     "output_type": "display_data"
    },
    {
     "data": {
      "image/png": "[encoded data removed]",
      "text/plain": [
       "<Figure size 1000x600 with 1 Axes>"
      ]
     },
     "metadata": {},
     "output_type": "display_data"
    }
   ],
   "source": [
    "# Filter the DataFrame for history == 1\n",
    "history_1 = history_wx[history_wx['history'] == 1]\n",
    "\n",
    "# Filter the DataFrame for history == 0\n",
    "history_0 = history_wx[history_wx['history'] == 0]\n",
    "\n",
    "# Create a plot of the frequency distribution of the host_percentage column for history == 1\n",
    "plt.figure(figsize=(10, 6))\n",
    "ax1 = sns.histplot(history_1['host_percentage'], bins=10, kde=True)\n",
    "\n",
    "# Annotate each bin with the number of fires\n",
    "for patch in ax1.patches:\n",
    "    height = patch.get_height()\n",
    "    if height > 0:  # Only annotate bins with counts\n",
    "        ax1.annotate(f'{int(height)}', \n",
    "                     xy=(patch.get_x() + patch.get_width() / 2, height), \n",
    "                     xytext=(0, 5),  # 5 points vertical offset\n",
    "                     textcoords='offset points', \n",
    "                     ha='center', va='baseline', fontsize=10, color='black')\n",
    "\n",
    "# Set the labels and title\n",
    "ax1.set_xlabel('Host Percentage')\n",
    "ax1.set_ylabel('Frequency')\n",
    "ax1.set_title('Frequency Distribution of Host Percentage (History = 1)')\n",
    "\n",
    "# Show the plot\n",
    "plt.show()\n",
    "\n",
    "# Create a plot of the frequency distribution of the host_percentage column for history == 0\n",
    "plt.figure(figsize=(10, 6))\n",
    "ax2 = sns.histplot(history_0['host_percentage'], bins=10, kde=True)\n",
    "\n",
    "# Annotate each bin with the number of fires\n",
    "for patch in ax2.patches:\n",
    "    height = patch.get_height()\n",
    "    if height > 0:  # Only annotate bins with counts\n",
    "        ax2.annotate(f'{int(height)}', \n",
    "                     xy=(patch.get_x() + patch.get_width() / 2, height), \n",
    "                     xytext=(0, 5),  # 5 points vertical offset\n",
    "                     textcoords='offset points', \n",
    "                     ha='center', va='baseline', fontsize=10, color='black')\n",
    "\n",
    "\n",
    "\n",
    "# Set the labels and title\n",
    "ax2.set_xlabel('Host Percentage')\n",
    "ax2.set_ylabel('Frequency')\n",
    "ax2.set_title('Frequency Distribution of Host Percentage (History = 0)')\n",
    "\n",
    "# Show the plot\n",
    "plt.show()\n"
   ]
  },
  {
   "cell_type": "markdown",
   "metadata": {},
   "source": [
    "Filter out fires that have a host species percentage greater than 50%"
   ]
  },
  {
   "cell_type": "code",
   "execution_count": 29,
   "metadata": {},
   "outputs": [
    {
     "data": {
      "image/png": "[encoded data removed]",
      "text/plain": [
       "<Figure size 1000x600 with 1 Axes>"
      ]
     },
     "metadata": {},
     "output_type": "display_data"
    },
    {
     "data": {
      "image/png": "[encoded data removed]",
      "text/plain": [
       "<Figure size 1000x600 with 1 Axes>"
      ]
     },
     "metadata": {},
     "output_type": "display_data"
    }
   ],
   "source": [
    "\n",
    "# Filter the DataFrame for host_percentage greater than 50%\n",
    "filtered_history_wx = history_wx[history_wx['host_percentage'] > 50]\n",
    "\n",
    "# Filter the DataFrame for history == 1\n",
    "history_1 = filtered_history_wx[filtered_history_wx['history'] == 1]\n",
    "\n",
    "# Filter the DataFrame for history == 0\n",
    "history_0 = filtered_history_wx[filtered_history_wx['history'] == 0]\n",
    "\n",
    "# Create a plot of the frequency distribution of the host_percentage column for history == 1\n",
    "plt.figure(figsize=(10, 6))\n",
    "ax1 = sns.histplot(history_1['host_percentage'], bins=10, kde=True)\n",
    "\n",
    "# Annotate each bin with the number of fires\n",
    "for patch in ax1.patches:\n",
    "    height = patch.get_height()\n",
    "    if height > 0:  # Only annotate bins with counts\n",
    "        ax1.annotate(f'{int(height)}', \n",
    "                     xy=(patch.get_x() + patch.get_width() / 2, height), \n",
    "                     xytext=(0, 5),  # 5 points vertical offset\n",
    "                     textcoords='offset points', \n",
    "                     ha='center', va='baseline', fontsize=10, color='black')\n",
    "\n",
    "# Add the total number of fires in the top left corner\n",
    "total_fires_1 = len(history_1)\n",
    "ax1.text(0.02, 0.98, f'Total Fires: {total_fires_1}', transform=ax1.transAxes, \n",
    "         ha='left', va='top', fontsize=12, color='black', bbox=dict(facecolor='white', alpha=0.5))\n",
    "\n",
    "# Set the labels and title\n",
    "ax1.set_xlabel('Host Percentage')\n",
    "ax1.set_ylabel('Frequency')\n",
    "ax1.set_title('Frequency Distribution of Host Percentage for defoliated fires (History = 1)')\n",
    "\n",
    "# Show the plot\n",
    "plt.show()\n",
    "\n",
    "# Create a plot of the frequency distribution of the host_percentage column for history == 0\n",
    "plt.figure(figsize=(10, 6))\n",
    "ax2 = sns.histplot(history_0['host_percentage'], bins=10, kde=True)\n",
    "\n",
    "# Annotate each bin with the number of fires\n",
    "for patch in ax2.patches:\n",
    "    height = patch.get_height()\n",
    "    if height > 0:  # Only annotate bins with counts\n",
    "        ax2.annotate(f'{int(height)}', \n",
    "                     xy=(patch.get_x() + patch.get_width() / 2, height), \n",
    "                     xytext=(0, 5),  # 5 points vertical offset\n",
    "                     textcoords='offset points', \n",
    "                     ha='center', va='baseline', fontsize=10, color='black')\n",
    "\n",
    "# Add the total number of fires in the top left corner\n",
    "total_fires_0 = len(history_0)\n",
    "ax2.text(0.02, 0.98, f'Total Fires: {total_fires_0}', transform=ax2.transAxes, \n",
    "         ha='left', va='top', fontsize=12, color='black', bbox=dict(facecolor='white', alpha=0.5))\n",
    "\n",
    "# Set the labels and title\n",
    "ax2.set_xlabel('Host Percentage')\n",
    "ax2.set_ylabel('Frequency')\n",
    "ax2.set_title('Frequency Distribution of Host Percentage for non-defoliated fires (history = 0)')\n",
    "\n",
    "# Show the plot\n",
    "plt.show()"
   ]
  },
  {
   "cell_type": "markdown",
   "metadata": {},
   "source": [
    "Save 50 % dataframe\n",
    "\n"
   ]
  },
  {
   "cell_type": "code",
   "execution_count": 30,
   "metadata": {},
   "outputs": [],
   "source": [
    "# write filtered history dataframe to csv\n",
    "filtered_history_wx.to_csv(\"../data/outputs/on/on_defoliation_history_wx_host_gt50.csv\", index=False)"
   ]
  },
  {
   "cell_type": "markdown",
   "metadata": {},
   "source": [
    "Get centroids and join"
   ]
  },
  {
   "cell_type": "code",
   "execution_count": 33,
   "metadata": {},
   "outputs": [
    {
     "name": "stdout",
     "output_type": "stream",
     "text": [
      "              Fire_ID          x          y\n",
      "0        NIP53_2001_1 -87.213095  52.847048\n",
      "1        NIP39_2001_2 -88.444278  52.805342\n",
      "2        NIP52_2001_3 -87.507748  52.530583\n",
      "3        NIP40_2001_4 -87.418806  52.301075\n",
      "4        NIP35_2001_5 -87.818331  51.560622\n",
      "...               ...        ...        ...\n",
      "1617  SLK48_2020_2214 -90.743241  53.805535\n",
      "1618  COC12_2020_2215 -89.225996  54.393503\n",
      "1619   RED9_2020_2216 -94.850473  51.613156\n",
      "1620  SLK47_2020_2217 -91.430288  53.924535\n",
      "1621  RED30_2020_2218 -94.324531  52.699575\n",
      "\n",
      "[1622 rows x 3 columns]\n"
     ]
    },
    {
     "name": "stderr",
     "output_type": "stream",
     "text": [
      "/tmp/ipykernel_3394587/3581074459.py:5: UserWarning: Geometry is in a geographic CRS. Results from 'centroid' are likely incorrect. Use 'GeoSeries.to_crs()' to re-project geometries to a projected CRS before this operation.\n",
      "\n",
      "  gdf['centroid'] = gdf.geometry.centroid\n"
     ]
    }
   ],
   "source": [
    "gdf = gpd.read_file(\"/home/goldma34/fire_insect_co-occurence/data/inputs/on/fire/ON_FirePerimeters_85to2020_v00.shp\")\n",
    "\n",
    "\n",
    "# Calculate centroids\n",
    "gdf['centroid'] = gdf.geometry.centroid\n",
    "\n",
    "# Extract x and y coordinates of the centroids\n",
    "gdf['x'] = gdf['centroid'].x\n",
    "gdf['y'] = gdf['centroid'].y\n",
    "\n",
    "# Select the Fire_ID, centroid_x, and centroid_y columns\n",
    "result = gdf[['Fire_ID', 'x', 'y']]\n",
    "\n",
    "# Print the resulting DataFrame\n",
    "print(result)"
   ]
  },
  {
   "cell_type": "code",
   "execution_count": 34,
   "metadata": {},
   "outputs": [],
   "source": [
    "xy_history_wx = pd.merge(filtered_history_wx, result, on='Fire_ID')"
   ]
  },
  {
   "cell_type": "markdown",
   "metadata": {},
   "source": [
    "Save out both files"
   ]
  },
  {
   "cell_type": "code",
   "execution_count": 35,
   "metadata": {},
   "outputs": [],
   "source": [
    "xy_history_wx.to_csv(\"../data/outputs/on/on_defoliation_history_wx_host_gt50_xy.csv\", index=False)\n",
    "result.to_csv(\"../data/outputs/on/on_fire_centroids.csv\", index=False)"
   ]
  }
 ],
 "metadata": {
  "kernelspec": {
   "display_name": "Python 3",
   "language": "python",
   "name": "python3"
  },
  "language_info": {
   "codemirror_mode": {
    "name": "ipython",
    "version": 3
   },
   "file_extension": ".py",
   "mimetype": "text/x-python",
   "name": "python",
   "nbconvert_exporter": "python",
   "pygments_lexer": "ipython3",
   "version": "3.10.12"
  }
 },
 "nbformat": 4,
 "nbformat_minor": 2
}
